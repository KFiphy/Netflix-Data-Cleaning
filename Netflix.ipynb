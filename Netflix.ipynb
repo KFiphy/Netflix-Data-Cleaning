{
 "cells": [
  {
   "cell_type": "markdown",
   "id": "dfad879d-8ebb-4005-818f-d456b60c9914",
   "metadata": {},
   "source": [
    "## Tittle: Netflix Dataset Cleaning & Analysis Project"
   ]
  },
  {
   "cell_type": "markdown",
   "id": "fdeac4e5-d845-4ac2-a229-a580fa0e19c8",
   "metadata": {},
   "source": [
    "## 1 Introduction\n",
    "The dataset contains information about movies and tv shows watched on netflix till 2021. It dataset consist of information about the streaming platform's content, user interactions, and other relevant metrics. "
   ]
  },
  {
   "cell_type": "markdown",
   "id": "6cb95673-e19e-4520-9f5a-a80904eee272",
   "metadata": {},
   "source": [
    "#### 1.1 Task Description\n",
    "Effective data cleaning is crucial for ensuring the accuracy and reliability of subsequent analyses. Cleaning the Netflix dataset will enable us to derive meaningful insights and enhance the overall data quality for downstream applications. The data analysis process involves answering some predefined questions. "
   ]
  },
  {
   "cell_type": "markdown",
   "id": "5a2a36fc-a215-4f9a-9f38-8d6e98068645",
   "metadata": {},
   "source": [
    "#### 1.2 Library Importation and Data Reading"
   ]
  },
  {
   "cell_type": "code",
   "execution_count": 1,
   "id": "d930077a-a6cb-4686-9e8e-7835b7560336",
   "metadata": {
    "tags": []
   },
   "outputs": [],
   "source": [
    "%matplotlib inline\n",
    "import numpy as np\n",
    "import pandas as pd\n",
    "import seaborn as sns\n",
    "import matplotlib.pyplot as plt\n",
    "import warnings\n",
    "warnings.filterwarnings(\"ignore\")\n",
    "\n",
    "sns.set(\n",
    "    { \"figure.figsize\": (10, 6) },\n",
    "    color_codes=True, font_scale=1.0)"
   ]
  },
  {
   "cell_type": "code",
   "execution_count": 2,
   "id": "2765da4c-e199-4170-840b-f6db7a8e87bb",
   "metadata": {
    "tags": []
   },
   "outputs": [],
   "source": [
    "netflix = pd.read_csv(\"https://raw.githubusercontent.com/KFiphy/Netflix-Data-Cleaning/main/file.csv\")"
   ]
  },
  {
   "cell_type": "markdown",
   "id": "4d793c07-64a8-4178-ab0e-9066951ea257",
   "metadata": {
    "tags": []
   },
   "source": [
    "#### 1.3 Basic Information of the dataset"
   ]
  },
  {
   "cell_type": "code",
   "execution_count": 3,
   "id": "3d027af4-5527-4c24-bf35-333b4e9936a5",
   "metadata": {
    "tags": []
   },
   "outputs": [
    {
     "data": {
      "text/html": [
       "<div>\n",
       "<style scoped>\n",
       "    .dataframe tbody tr th:only-of-type {\n",
       "        vertical-align: middle;\n",
       "    }\n",
       "\n",
       "    .dataframe tbody tr th {\n",
       "        vertical-align: top;\n",
       "    }\n",
       "\n",
       "    .dataframe thead th {\n",
       "        text-align: right;\n",
       "    }\n",
       "</style>\n",
       "<table border=\"1\" class=\"dataframe\">\n",
       "  <thead>\n",
       "    <tr style=\"text-align: right;\">\n",
       "      <th></th>\n",
       "      <th>Show_Id</th>\n",
       "      <th>Category</th>\n",
       "      <th>Title</th>\n",
       "      <th>Director</th>\n",
       "      <th>Cast</th>\n",
       "      <th>Country</th>\n",
       "      <th>Release_Date</th>\n",
       "      <th>Rating</th>\n",
       "      <th>Duration</th>\n",
       "      <th>Type</th>\n",
       "      <th>Description</th>\n",
       "    </tr>\n",
       "  </thead>\n",
       "  <tbody>\n",
       "    <tr>\n",
       "      <th>0</th>\n",
       "      <td>s1</td>\n",
       "      <td>TV Show</td>\n",
       "      <td>3%</td>\n",
       "      <td>NaN</td>\n",
       "      <td>João Miguel, Bianca Comparato, Michel Gomes, R...</td>\n",
       "      <td>Brazil</td>\n",
       "      <td>August 14, 2020</td>\n",
       "      <td>TV-MA</td>\n",
       "      <td>4 Seasons</td>\n",
       "      <td>International TV Shows, TV Dramas, TV Sci-Fi &amp;...</td>\n",
       "      <td>In a future where the elite inhabit an island ...</td>\n",
       "    </tr>\n",
       "    <tr>\n",
       "      <th>1</th>\n",
       "      <td>s2</td>\n",
       "      <td>Movie</td>\n",
       "      <td>07:19</td>\n",
       "      <td>Jorge Michel Grau</td>\n",
       "      <td>Demián Bichir, Héctor Bonilla, Oscar Serrano, ...</td>\n",
       "      <td>Mexico</td>\n",
       "      <td>December 23, 2016</td>\n",
       "      <td>TV-MA</td>\n",
       "      <td>93 min</td>\n",
       "      <td>Dramas, International Movies</td>\n",
       "      <td>After a devastating earthquake hits Mexico Cit...</td>\n",
       "    </tr>\n",
       "    <tr>\n",
       "      <th>2</th>\n",
       "      <td>s3</td>\n",
       "      <td>Movie</td>\n",
       "      <td>23:59</td>\n",
       "      <td>Gilbert Chan</td>\n",
       "      <td>Tedd Chan, Stella Chung, Henley Hii, Lawrence ...</td>\n",
       "      <td>Singapore</td>\n",
       "      <td>December 20, 2018</td>\n",
       "      <td>R</td>\n",
       "      <td>78 min</td>\n",
       "      <td>Horror Movies, International Movies</td>\n",
       "      <td>When an army recruit is found dead, his fellow...</td>\n",
       "    </tr>\n",
       "    <tr>\n",
       "      <th>3</th>\n",
       "      <td>s4</td>\n",
       "      <td>Movie</td>\n",
       "      <td>9</td>\n",
       "      <td>Shane Acker</td>\n",
       "      <td>Elijah Wood, John C. Reilly, Jennifer Connelly...</td>\n",
       "      <td>United States</td>\n",
       "      <td>November 16, 2017</td>\n",
       "      <td>PG-13</td>\n",
       "      <td>80 min</td>\n",
       "      <td>Action &amp; Adventure, Independent Movies, Sci-Fi...</td>\n",
       "      <td>In a postapocalyptic world, rag-doll robots hi...</td>\n",
       "    </tr>\n",
       "    <tr>\n",
       "      <th>4</th>\n",
       "      <td>s5</td>\n",
       "      <td>Movie</td>\n",
       "      <td>21</td>\n",
       "      <td>Robert Luketic</td>\n",
       "      <td>Jim Sturgess, Kevin Spacey, Kate Bosworth, Aar...</td>\n",
       "      <td>United States</td>\n",
       "      <td>January 1, 2020</td>\n",
       "      <td>PG-13</td>\n",
       "      <td>123 min</td>\n",
       "      <td>Dramas</td>\n",
       "      <td>A brilliant group of students become card-coun...</td>\n",
       "    </tr>\n",
       "  </tbody>\n",
       "</table>\n",
       "</div>"
      ],
      "text/plain": [
       "  Show_Id Category  Title           Director  \\\n",
       "0      s1  TV Show     3%                NaN   \n",
       "1      s2    Movie  07:19  Jorge Michel Grau   \n",
       "2      s3    Movie  23:59       Gilbert Chan   \n",
       "3      s4    Movie      9        Shane Acker   \n",
       "4      s5    Movie     21     Robert Luketic   \n",
       "\n",
       "                                                Cast        Country  \\\n",
       "0  João Miguel, Bianca Comparato, Michel Gomes, R...         Brazil   \n",
       "1  Demián Bichir, Héctor Bonilla, Oscar Serrano, ...         Mexico   \n",
       "2  Tedd Chan, Stella Chung, Henley Hii, Lawrence ...      Singapore   \n",
       "3  Elijah Wood, John C. Reilly, Jennifer Connelly...  United States   \n",
       "4  Jim Sturgess, Kevin Spacey, Kate Bosworth, Aar...  United States   \n",
       "\n",
       "        Release_Date Rating   Duration  \\\n",
       "0    August 14, 2020  TV-MA  4 Seasons   \n",
       "1  December 23, 2016  TV-MA     93 min   \n",
       "2  December 20, 2018      R     78 min   \n",
       "3  November 16, 2017  PG-13     80 min   \n",
       "4    January 1, 2020  PG-13    123 min   \n",
       "\n",
       "                                                Type  \\\n",
       "0  International TV Shows, TV Dramas, TV Sci-Fi &...   \n",
       "1                       Dramas, International Movies   \n",
       "2                Horror Movies, International Movies   \n",
       "3  Action & Adventure, Independent Movies, Sci-Fi...   \n",
       "4                                             Dramas   \n",
       "\n",
       "                                         Description  \n",
       "0  In a future where the elite inhabit an island ...  \n",
       "1  After a devastating earthquake hits Mexico Cit...  \n",
       "2  When an army recruit is found dead, his fellow...  \n",
       "3  In a postapocalyptic world, rag-doll robots hi...  \n",
       "4  A brilliant group of students become card-coun...  "
      ]
     },
     "execution_count": 3,
     "metadata": {},
     "output_type": "execute_result"
    }
   ],
   "source": [
    "netflix.head()           #prints first five rows of the data"
   ]
  },
  {
   "cell_type": "code",
   "execution_count": 4,
   "id": "0500b164-fd1a-4339-ae90-74eb72cdbcb4",
   "metadata": {
    "tags": []
   },
   "outputs": [
    {
     "data": {
      "text/html": [
       "<div>\n",
       "<style scoped>\n",
       "    .dataframe tbody tr th:only-of-type {\n",
       "        vertical-align: middle;\n",
       "    }\n",
       "\n",
       "    .dataframe tbody tr th {\n",
       "        vertical-align: top;\n",
       "    }\n",
       "\n",
       "    .dataframe thead th {\n",
       "        text-align: right;\n",
       "    }\n",
       "</style>\n",
       "<table border=\"1\" class=\"dataframe\">\n",
       "  <thead>\n",
       "    <tr style=\"text-align: right;\">\n",
       "      <th></th>\n",
       "      <th>Show_Id</th>\n",
       "      <th>Category</th>\n",
       "      <th>Title</th>\n",
       "      <th>Director</th>\n",
       "      <th>Cast</th>\n",
       "      <th>Country</th>\n",
       "      <th>Release_Date</th>\n",
       "      <th>Rating</th>\n",
       "      <th>Duration</th>\n",
       "      <th>Type</th>\n",
       "      <th>Description</th>\n",
       "    </tr>\n",
       "  </thead>\n",
       "  <tbody>\n",
       "    <tr>\n",
       "      <th>7784</th>\n",
       "      <td>s7783</td>\n",
       "      <td>Movie</td>\n",
       "      <td>Zozo</td>\n",
       "      <td>Josef Fares</td>\n",
       "      <td>Imad Creidi, Antoinette Turk, Elias Gergi, Car...</td>\n",
       "      <td>Sweden, Czech Republic, United Kingdom, Denmar...</td>\n",
       "      <td>October 19, 2020</td>\n",
       "      <td>TV-MA</td>\n",
       "      <td>99 min</td>\n",
       "      <td>Dramas, International Movies</td>\n",
       "      <td>When Lebanon's Civil War deprives Zozo of his ...</td>\n",
       "    </tr>\n",
       "    <tr>\n",
       "      <th>7785</th>\n",
       "      <td>s7784</td>\n",
       "      <td>Movie</td>\n",
       "      <td>Zubaan</td>\n",
       "      <td>Mozez Singh</td>\n",
       "      <td>Vicky Kaushal, Sarah-Jane Dias, Raaghav Chanan...</td>\n",
       "      <td>India</td>\n",
       "      <td>March 2, 2019</td>\n",
       "      <td>TV-14</td>\n",
       "      <td>111 min</td>\n",
       "      <td>Dramas, International Movies, Music &amp; Musicals</td>\n",
       "      <td>A scrappy but poor boy worms his way into a ty...</td>\n",
       "    </tr>\n",
       "    <tr>\n",
       "      <th>7786</th>\n",
       "      <td>s7785</td>\n",
       "      <td>Movie</td>\n",
       "      <td>Zulu Man in Japan</td>\n",
       "      <td>NaN</td>\n",
       "      <td>Nasty C</td>\n",
       "      <td>NaN</td>\n",
       "      <td>September 25, 2020</td>\n",
       "      <td>TV-MA</td>\n",
       "      <td>44 min</td>\n",
       "      <td>Documentaries, International Movies, Music &amp; M...</td>\n",
       "      <td>In this documentary, South African rapper Nast...</td>\n",
       "    </tr>\n",
       "    <tr>\n",
       "      <th>7787</th>\n",
       "      <td>s7786</td>\n",
       "      <td>TV Show</td>\n",
       "      <td>Zumbo's Just Desserts</td>\n",
       "      <td>NaN</td>\n",
       "      <td>Adriano Zumbo, Rachel Khoo</td>\n",
       "      <td>Australia</td>\n",
       "      <td>October 31, 2020</td>\n",
       "      <td>TV-PG</td>\n",
       "      <td>1 Season</td>\n",
       "      <td>International TV Shows, Reality TV</td>\n",
       "      <td>Dessert wizard Adriano Zumbo looks for the nex...</td>\n",
       "    </tr>\n",
       "    <tr>\n",
       "      <th>7788</th>\n",
       "      <td>s7787</td>\n",
       "      <td>Movie</td>\n",
       "      <td>ZZ TOP: THAT LITTLE OL' BAND FROM TEXAS</td>\n",
       "      <td>Sam Dunn</td>\n",
       "      <td>NaN</td>\n",
       "      <td>United Kingdom, Canada, United States</td>\n",
       "      <td>March 1, 2020</td>\n",
       "      <td>TV-MA</td>\n",
       "      <td>90 min</td>\n",
       "      <td>Documentaries, Music &amp; Musicals</td>\n",
       "      <td>This documentary delves into the mystique behi...</td>\n",
       "    </tr>\n",
       "  </tbody>\n",
       "</table>\n",
       "</div>"
      ],
      "text/plain": [
       "     Show_Id Category                                    Title     Director  \\\n",
       "7784   s7783    Movie                                     Zozo  Josef Fares   \n",
       "7785   s7784    Movie                                   Zubaan  Mozez Singh   \n",
       "7786   s7785    Movie                        Zulu Man in Japan          NaN   \n",
       "7787   s7786  TV Show                    Zumbo's Just Desserts          NaN   \n",
       "7788   s7787    Movie  ZZ TOP: THAT LITTLE OL' BAND FROM TEXAS     Sam Dunn   \n",
       "\n",
       "                                                   Cast  \\\n",
       "7784  Imad Creidi, Antoinette Turk, Elias Gergi, Car...   \n",
       "7785  Vicky Kaushal, Sarah-Jane Dias, Raaghav Chanan...   \n",
       "7786                                            Nasty C   \n",
       "7787                         Adriano Zumbo, Rachel Khoo   \n",
       "7788                                                NaN   \n",
       "\n",
       "                                                Country        Release_Date  \\\n",
       "7784  Sweden, Czech Republic, United Kingdom, Denmar...    October 19, 2020   \n",
       "7785                                              India       March 2, 2019   \n",
       "7786                                                NaN  September 25, 2020   \n",
       "7787                                          Australia    October 31, 2020   \n",
       "7788              United Kingdom, Canada, United States       March 1, 2020   \n",
       "\n",
       "     Rating  Duration                                               Type  \\\n",
       "7784  TV-MA    99 min                       Dramas, International Movies   \n",
       "7785  TV-14   111 min     Dramas, International Movies, Music & Musicals   \n",
       "7786  TV-MA    44 min  Documentaries, International Movies, Music & M...   \n",
       "7787  TV-PG  1 Season                 International TV Shows, Reality TV   \n",
       "7788  TV-MA    90 min                    Documentaries, Music & Musicals   \n",
       "\n",
       "                                            Description  \n",
       "7784  When Lebanon's Civil War deprives Zozo of his ...  \n",
       "7785  A scrappy but poor boy worms his way into a ty...  \n",
       "7786  In this documentary, South African rapper Nast...  \n",
       "7787  Dessert wizard Adriano Zumbo looks for the nex...  \n",
       "7788  This documentary delves into the mystique behi...  "
      ]
     },
     "execution_count": 4,
     "metadata": {},
     "output_type": "execute_result"
    }
   ],
   "source": [
    "netflix.tail()         #prints last 5 rows"
   ]
  },
  {
   "cell_type": "code",
   "execution_count": 5,
   "id": "5d67aaf3-c65b-4de8-a389-742f6fad0233",
   "metadata": {
    "tags": []
   },
   "outputs": [
    {
     "data": {
      "text/plain": [
       "(7789, 11)"
      ]
     },
     "execution_count": 5,
     "metadata": {},
     "output_type": "execute_result"
    }
   ],
   "source": [
    "netflix.shape       #prints number of rows and columns  "
   ]
  },
  {
   "cell_type": "code",
   "execution_count": 6,
   "id": "a19b0734-7809-4f27-8e80-b528e848312b",
   "metadata": {
    "tags": []
   },
   "outputs": [
    {
     "data": {
      "text/plain": [
       "85679"
      ]
     },
     "execution_count": 6,
     "metadata": {},
     "output_type": "execute_result"
    }
   ],
   "source": [
    "netflix.size        #prints total number of elements"
   ]
  },
  {
   "cell_type": "code",
   "execution_count": 7,
   "id": "a33d0e4b-5dbf-458f-b41a-204838ae50fc",
   "metadata": {
    "tags": []
   },
   "outputs": [
    {
     "data": {
      "text/plain": [
       "Index(['Show_Id', 'Category', 'Title', 'Director', 'Cast', 'Country',\n",
       "       'Release_Date', 'Rating', 'Duration', 'Type', 'Description'],\n",
       "      dtype='object')"
      ]
     },
     "execution_count": 7,
     "metadata": {},
     "output_type": "execute_result"
    }
   ],
   "source": [
    "netflix.columns     #prints all the columns name"
   ]
  },
  {
   "cell_type": "code",
   "execution_count": 8,
   "id": "67ada164-c4a6-4e00-84c8-09960406ee2d",
   "metadata": {
    "tags": []
   },
   "outputs": [
    {
     "data": {
      "text/plain": [
       "Show_Id         object\n",
       "Category        object\n",
       "Title           object\n",
       "Director        object\n",
       "Cast            object\n",
       "Country         object\n",
       "Release_Date    object\n",
       "Rating          object\n",
       "Duration        object\n",
       "Type            object\n",
       "Description     object\n",
       "dtype: object"
      ]
     },
     "execution_count": 8,
     "metadata": {},
     "output_type": "execute_result"
    }
   ],
   "source": [
    "netflix.dtypes      #prints data types of each columns"
   ]
  },
  {
   "cell_type": "code",
   "execution_count": 9,
   "id": "fa9e6efb-9c12-4b06-8b69-cf57b8e0d6a3",
   "metadata": {
    "tags": []
   },
   "outputs": [
    {
     "name": "stdout",
     "output_type": "stream",
     "text": [
      "<class 'pandas.core.frame.DataFrame'>\n",
      "RangeIndex: 7789 entries, 0 to 7788\n",
      "Data columns (total 11 columns):\n",
      " #   Column        Non-Null Count  Dtype \n",
      "---  ------        --------------  ----- \n",
      " 0   Show_Id       7789 non-null   object\n",
      " 1   Category      7789 non-null   object\n",
      " 2   Title         7789 non-null   object\n",
      " 3   Director      5401 non-null   object\n",
      " 4   Cast          7071 non-null   object\n",
      " 5   Country       7282 non-null   object\n",
      " 6   Release_Date  7779 non-null   object\n",
      " 7   Rating        7782 non-null   object\n",
      " 8   Duration      7789 non-null   object\n",
      " 9   Type          7789 non-null   object\n",
      " 10  Description   7789 non-null   object\n",
      "dtypes: object(11)\n",
      "memory usage: 669.5+ KB\n"
     ]
    }
   ],
   "source": [
    "netflix.info()       #prints the characteristics of the data at once such as column names,nulls, data types, number of entries, e.t.c."
   ]
  },
  {
   "cell_type": "markdown",
   "id": "ef65a462-8002-435c-b461-3c15c1b33e32",
   "metadata": {},
   "source": [
    "## 2 Data Cleaning"
   ]
  },
  {
   "cell_type": "markdown",
   "id": "28c8c89e-2665-4fa8-98e9-f76973715853",
   "metadata": {},
   "source": [
    "#### 2.1 Duplicates\n",
    "Duplicates are instances in a dataset where one or more records have identical values across all or a subset of their attributes."
   ]
  },
  {
   "cell_type": "code",
   "execution_count": 10,
   "id": "eeadf0aa-6494-4d09-8336-6c906318ee7a",
   "metadata": {
    "tags": []
   },
   "outputs": [
    {
     "data": {
      "text/plain": [
       "2"
      ]
     },
     "execution_count": 10,
     "metadata": {},
     "output_type": "execute_result"
    }
   ],
   "source": [
    "#check for duplicates\n",
    "netflix.duplicated().sum()"
   ]
  },
  {
   "cell_type": "code",
   "execution_count": 11,
   "id": "fe4ec047-7842-4296-8371-1f6251290d3d",
   "metadata": {
    "tags": []
   },
   "outputs": [
    {
     "data": {
      "text/html": [
       "<div>\n",
       "<style scoped>\n",
       "    .dataframe tbody tr th:only-of-type {\n",
       "        vertical-align: middle;\n",
       "    }\n",
       "\n",
       "    .dataframe tbody tr th {\n",
       "        vertical-align: top;\n",
       "    }\n",
       "\n",
       "    .dataframe thead th {\n",
       "        text-align: right;\n",
       "    }\n",
       "</style>\n",
       "<table border=\"1\" class=\"dataframe\">\n",
       "  <thead>\n",
       "    <tr style=\"text-align: right;\">\n",
       "      <th></th>\n",
       "      <th>Show_Id</th>\n",
       "      <th>Category</th>\n",
       "      <th>Title</th>\n",
       "      <th>Director</th>\n",
       "      <th>Cast</th>\n",
       "      <th>Country</th>\n",
       "      <th>Release_Date</th>\n",
       "      <th>Rating</th>\n",
       "      <th>Duration</th>\n",
       "      <th>Type</th>\n",
       "      <th>Description</th>\n",
       "    </tr>\n",
       "  </thead>\n",
       "  <tbody>\n",
       "  </tbody>\n",
       "</table>\n",
       "</div>"
      ],
      "text/plain": [
       "Empty DataFrame\n",
       "Columns: [Show_Id, Category, Title, Director, Cast, Country, Release_Date, Rating, Duration, Type, Description]\n",
       "Index: []"
      ]
     },
     "execution_count": 11,
     "metadata": {},
     "output_type": "execute_result"
    }
   ],
   "source": [
    "#remove the 2 duplicates permanently\n",
    "netflix.drop_duplicates(inplace = True)\n",
    "\n",
    "#check to see there are no more duplicates-oo\n",
    "netflix[netflix.duplicated()]"
   ]
  },
  {
   "cell_type": "markdown",
   "id": "362f6ba9-6273-43b9-83c9-bf0f34af3954",
   "metadata": {},
   "source": [
    "#### 2.2 Nulls\n",
    "Null refers to the absence of a value or the representation of missing or undefined data."
   ]
  },
  {
   "cell_type": "code",
   "execution_count": 12,
   "id": "4b0fdcfa-5045-4eeb-a6bd-f18562ede15c",
   "metadata": {
    "tags": []
   },
   "outputs": [
    {
     "data": {
      "text/plain": [
       "Show_Id            0\n",
       "Category           0\n",
       "Title              0\n",
       "Director        2388\n",
       "Cast             718\n",
       "Country          507\n",
       "Release_Date      10\n",
       "Rating             7\n",
       "Duration           0\n",
       "Type               0\n",
       "Description        0\n",
       "dtype: int64"
      ]
     },
     "execution_count": 12,
     "metadata": {},
     "output_type": "execute_result"
    }
   ],
   "source": [
    "#check for null values in each column\n",
    "netflix.isnull().sum()"
   ]
  },
  {
   "cell_type": "code",
   "execution_count": 13,
   "id": "2921de87-87fe-4b4f-a51d-d037ecbf8557",
   "metadata": {
    "tags": []
   },
   "outputs": [
    {
     "data": {
      "text/plain": [
       "<Axes: >"
      ]
     },
     "execution_count": 13,
     "metadata": {},
     "output_type": "execute_result"
    },
    {
     "data": {
      "image/png": "[encoded data removed]",
      "text/plain": [
       "<Figure size 1000x600 with 2 Axes>"
      ]
     },
     "metadata": {},
     "output_type": "display_data"
    }
   ],
   "source": [
    "#show null values with heatmap\n",
    "sns.heatmap(netflix.isnull())"
   ]
  },
  {
   "cell_type": "markdown",
   "id": "0d9f167d-750c-4783-bcdb-d01cb00222cc",
   "metadata": {},
   "source": [
    "Director Column has the highest number of nulls while Rating had the lowest."
   ]
  },
  {
   "cell_type": "markdown",
   "id": "68d75796-f075-43a3-8b2d-d7d61a7fba95",
   "metadata": {},
   "source": [
    "#### 2.2.1 Filling null values in Release Date"
   ]
  },
  {
   "cell_type": "code",
   "execution_count": 14,
   "id": "cef3bd79-1b1d-4c42-8d49-6ec652377be1",
   "metadata": {
    "tags": []
   },
   "outputs": [],
   "source": [
    "# fill the date nulls with the most frequently occurring date\n",
    "netflix[\"Release_Date\"] = netflix[\"Release_Date\"].fillna(netflix[\"Release_Date\"].mode().iloc[0])"
   ]
  },
  {
   "cell_type": "markdown",
   "id": "15b37d30-b0ca-45b4-ab44-ac7c548cb496",
   "metadata": {},
   "source": [
    "#### 2.2.2 Filling null values in Ratings"
   ]
  },
  {
   "cell_type": "code",
   "execution_count": 15,
   "id": "fa7967f0-302e-4f76-ab21-7c31762983b5",
   "metadata": {
    "tags": []
   },
   "outputs": [],
   "source": [
    "netflix[\"Rating\"] = netflix[\"Rating\"].fillna(netflix[\"Rating\"].mode().iloc[0])"
   ]
  },
  {
   "cell_type": "markdown",
   "id": "fd29397e-7716-47fc-bed9-cded0e3b1fec",
   "metadata": {},
   "source": [
    "#### 2.2.3 Filling null values in Cast\n",
    "it is important to note that dropping the nulls here will drop the entire row, including the good data that is stored on other variables within that row. Therefore, i will fill up with \"Unknown\" ."
   ]
  },
  {
   "cell_type": "code",
   "execution_count": 16,
   "id": "8daa9c83-153c-4b6b-a22f-db403f27be02",
   "metadata": {
    "tags": []
   },
   "outputs": [],
   "source": [
    "netflix[\"Cast\"] = netflix[\"Cast\"].fillna(\"unknown\")"
   ]
  },
  {
   "cell_type": "code",
   "execution_count": 17,
   "id": "3179864f-722e-49a2-9996-fb90701874b6",
   "metadata": {
    "tags": []
   },
   "outputs": [
    {
     "data": {
      "text/plain": [
       "Show_Id            0\n",
       "Category           0\n",
       "Title              0\n",
       "Director        2388\n",
       "Cast               0\n",
       "Country          507\n",
       "Release_Date       0\n",
       "Rating             0\n",
       "Duration           0\n",
       "Type               0\n",
       "Description        0\n",
       "dtype: int64"
      ]
     },
     "execution_count": 17,
     "metadata": {},
     "output_type": "execute_result"
    }
   ],
   "source": [
    "#confirm all nulls\n",
    "netflix.isnull().sum()"
   ]
  },
  {
   "cell_type": "markdown",
   "id": "b82598f4-7cde-48e6-b567-af4ca7ebe574",
   "metadata": {},
   "source": [
    "I have opted not to fill null values for Directors and Country in the dataset. With over 2000+ and 500+ nulls, respectively, filling these missing values with the mode could potentially skew the representation of the best-performing directors or countries for movie releases. By leaving the null values untouched, I aim to maintain the authenticity of the dataset, ensuring that any analysis reflects the true distribution of available information. This decision is grounded in the understanding that imputing nulls might introduce biases, particularly when dealing with a significant proportion of missing values, and could lead to a distorted representation of key factors in the dataset."
   ]
  },
  {
   "cell_type": "markdown",
   "id": "34029bf0-1679-4ba9-b215-7aa891f3034d",
   "metadata": {},
   "source": [
    "## 3 Columns/ Features Cleaning\n",
    "#### 3.1 Cleaning Release Date"
   ]
  },
  {
   "cell_type": "code",
   "execution_count": 18,
   "id": "7bb2479b-c5db-41fc-966e-f3cc118faaa9",
   "metadata": {
    "tags": []
   },
   "outputs": [
    {
     "data": {
      "text/plain": [
       "dtype('O')"
      ]
     },
     "execution_count": 18,
     "metadata": {},
     "output_type": "execute_result"
    }
   ],
   "source": [
    "#check to see the datatype of release date\n",
    "netflix[\"Release_Date\"].dtypes"
   ]
  },
  {
   "cell_type": "code",
   "execution_count": 19,
   "id": "14ebf369-3e28-42ce-b2d6-29a171e3a16a",
   "metadata": {
    "tags": []
   },
   "outputs": [
    {
     "data": {
      "text/plain": [
       "Show_Id                 object\n",
       "Category                object\n",
       "Title                   object\n",
       "Director                object\n",
       "Cast                    object\n",
       "Country                 object\n",
       "Release_Date            object\n",
       "Rating                  object\n",
       "Duration                object\n",
       "Type                    object\n",
       "Description             object\n",
       "Date            datetime64[ns]\n",
       "dtype: object"
      ]
     },
     "execution_count": 19,
     "metadata": {},
     "output_type": "execute_result"
    }
   ],
   "source": [
    "#convert date from string to date format\n",
    "#netflix[\"Date\"] = pd.to_datetime(netflix[\"Release_Date\"], errors=\"coerce\")\n",
    "\n",
    "netflix[\"Release_Date\"] = netflix[\"Release_Date\"].str.strip()\n",
    "netflix[\"Date\"] = pd.to_datetime(netflix[\"Release_Date\"], format=\"%B %d, %Y\")\n",
    "\n",
    "#confirm data type\n",
    "netflix.dtypes"
   ]
  },
  {
   "cell_type": "code",
   "execution_count": 20,
   "id": "97569468-6f50-4038-bd14-c5bba53e9a68",
   "metadata": {
    "tags": []
   },
   "outputs": [],
   "source": [
    "# Extract Year and Month\n",
    "netflix[\"month\"] = netflix[\"Date\"].dt.month\n",
    "netflix[\"year\"] = netflix[\"Date\"].dt.year"
   ]
  },
  {
   "cell_type": "markdown",
   "id": "15409bb6-06ab-4569-aa91-8b1829edd65f",
   "metadata": {
    "tags": []
   },
   "source": [
    "#### 3.2 Cleaning Duration\n",
    "Since duration of the movies are supposed to be numbers , it will be converted from objects."
   ]
  },
  {
   "cell_type": "code",
   "execution_count": 21,
   "id": "9f81516a-a650-433a-9ffe-beab9c496322",
   "metadata": {
    "tags": []
   },
   "outputs": [],
   "source": [
    "#Split duration into minutes and unit of minutes\n",
    "netflix[[\"minutes\",\"unit\"]] =netflix[\"Duration\"].str.split(\" \", expand = True)\n",
    "\n",
    "#convert minutes to integer\n",
    "netflix[\"minutes\"] = netflix[\"minutes\"].astype(int)"
   ]
  },
  {
   "cell_type": "markdown",
   "id": "af165b27-2b8d-496a-9029-02fef7515ac9",
   "metadata": {
    "tags": []
   },
   "source": [
    "## 4 Exploratory Data Analysis"
   ]
  },
  {
   "cell_type": "markdown",
   "id": "bd5f35dd-41bc-4bfd-a940-e461b3530284",
   "metadata": {},
   "source": [
    "#### Task 4.1\n",
    "For 'House of Cards', what is the Show Id and Who is the Director of this show ?"
   ]
  },
  {
   "cell_type": "code",
   "execution_count": 22,
   "id": "8b43aa2d-a643-40d0-bfd7-846d012bf6eb",
   "metadata": {
    "tags": []
   },
   "outputs": [
    {
     "data": {
      "text/html": [
       "<div>\n",
       "<style scoped>\n",
       "    .dataframe tbody tr th:only-of-type {\n",
       "        vertical-align: middle;\n",
       "    }\n",
       "\n",
       "    .dataframe tbody tr th {\n",
       "        vertical-align: top;\n",
       "    }\n",
       "\n",
       "    .dataframe thead th {\n",
       "        text-align: right;\n",
       "    }\n",
       "</style>\n",
       "<table border=\"1\" class=\"dataframe\">\n",
       "  <thead>\n",
       "    <tr style=\"text-align: right;\">\n",
       "      <th></th>\n",
       "      <th>Show_Id</th>\n",
       "      <th>Category</th>\n",
       "      <th>Title</th>\n",
       "      <th>Director</th>\n",
       "      <th>Cast</th>\n",
       "      <th>Country</th>\n",
       "      <th>Release_Date</th>\n",
       "      <th>Rating</th>\n",
       "      <th>Duration</th>\n",
       "      <th>Type</th>\n",
       "      <th>Description</th>\n",
       "      <th>Date</th>\n",
       "      <th>month</th>\n",
       "      <th>year</th>\n",
       "      <th>minutes</th>\n",
       "      <th>unit</th>\n",
       "    </tr>\n",
       "  </thead>\n",
       "  <tbody>\n",
       "    <tr>\n",
       "      <th>2832</th>\n",
       "      <td>s2833</td>\n",
       "      <td>TV Show</td>\n",
       "      <td>House of Cards</td>\n",
       "      <td>Robin Wright, David Fincher, Gerald McRaney, J...</td>\n",
       "      <td>Kevin Spacey, Robin Wright, Kate Mara, Corey S...</td>\n",
       "      <td>United States</td>\n",
       "      <td>November 2, 2018</td>\n",
       "      <td>TV-MA</td>\n",
       "      <td>6 Seasons</td>\n",
       "      <td>TV Dramas, TV Thrillers</td>\n",
       "      <td>A ruthless politician will stop at nothing to ...</td>\n",
       "      <td>2018-11-02</td>\n",
       "      <td>11</td>\n",
       "      <td>2018</td>\n",
       "      <td>6</td>\n",
       "      <td>Seasons</td>\n",
       "    </tr>\n",
       "  </tbody>\n",
       "</table>\n",
       "</div>"
      ],
      "text/plain": [
       "     Show_Id Category           Title  \\\n",
       "2832   s2833  TV Show  House of Cards   \n",
       "\n",
       "                                               Director  \\\n",
       "2832  Robin Wright, David Fincher, Gerald McRaney, J...   \n",
       "\n",
       "                                                   Cast        Country  \\\n",
       "2832  Kevin Spacey, Robin Wright, Kate Mara, Corey S...  United States   \n",
       "\n",
       "          Release_Date Rating   Duration                     Type  \\\n",
       "2832  November 2, 2018  TV-MA  6 Seasons  TV Dramas, TV Thrillers   \n",
       "\n",
       "                                            Description       Date  month  \\\n",
       "2832  A ruthless politician will stop at nothing to ... 2018-11-02     11   \n",
       "\n",
       "      year  minutes     unit  \n",
       "2832  2018        6  Seasons  "
      ]
     },
     "execution_count": 22,
     "metadata": {},
     "output_type": "execute_result"
    }
   ],
   "source": [
    "netflix.loc[netflix[\"Title\"] == \"House of Cards\" ]"
   ]
  },
  {
   "cell_type": "markdown",
   "id": "ff97a55a-598e-4fff-9774-0ba693863e7a",
   "metadata": {},
   "source": [
    "Show Id is \"s2833\" and Director is Robin Wright, David Fincher, Gerald McRaney, J., e.t.c."
   ]
  },
  {
   "cell_type": "markdown",
   "id": "b468b1ee-e21c-437a-9d29-e0b569f9387c",
   "metadata": {},
   "source": [
    "#### Task 4.2\n",
    "In which year the highest number of the TV Shows & Movies were released ? Show with Bar Graph."
   ]
  },
  {
   "cell_type": "code",
   "execution_count": 23,
   "id": "4ce21d12-5250-4797-8e11-0c70ffa30016",
   "metadata": {
    "tags": []
   },
   "outputs": [
    {
     "data": {
      "text/plain": [
       "Text(0.5, 1.0, 'Number of TV Shows & Movies released in different years')"
      ]
     },
     "execution_count": 23,
     "metadata": {},
     "output_type": "execute_result"
    },
    {
     "data": {
      "image/png": "[encoded data removed]",
      "text/plain": [
       "<Figure size 1000x600 with 1 Axes>"
      ]
     },
     "metadata": {},
     "output_type": "display_data"
    }
   ],
   "source": [
    "sns.countplot(data = netflix, x = netflix[\"year\"], palette = \"viridis\")\n",
    "plt.title(\"Number of TV Shows & Movies released in different years\", fontsize = 15)"
   ]
  },
  {
   "cell_type": "markdown",
   "id": "23bf0dc2-c2d3-427e-96d3-f9e7751ae8a1",
   "metadata": {},
   "source": [
    "#### Task 4.3\n",
    "How many Movies & TV Shows are in the dataset ? Show their percentage with Pie Chart."
   ]
  },
  {
   "cell_type": "code",
   "execution_count": 24,
   "id": "e8a9eb01-b8b4-404a-9a57-8fd143b3ee11",
   "metadata": {
    "tags": []
   },
   "outputs": [
    {
     "data": {
      "text/plain": [
       "Category\n",
       "Movie      5377\n",
       "TV Show    2410\n",
       "Name: count, dtype: int64"
      ]
     },
     "execution_count": 24,
     "metadata": {},
     "output_type": "execute_result"
    }
   ],
   "source": [
    "netflix[\"Category\"].value_counts()"
   ]
  },
  {
   "cell_type": "code",
   "execution_count": 25,
   "id": "e985032a-037c-4257-96f2-1240858d3b28",
   "metadata": {
    "tags": []
   },
   "outputs": [
    {
     "data": {
      "text/plain": [
       "Text(0.5, 1.0, 'Percentage of TV Shows & Movies released')"
      ]
     },
     "execution_count": 25,
     "metadata": {},
     "output_type": "execute_result"
    },
    {
     "data": {
      "image/png": "[encoded data removed]",
      "text/plain": [
       "<Figure size 1000x600 with 1 Axes>"
      ]
     },
     "metadata": {},
     "output_type": "display_data"
    }
   ],
   "source": [
    "colorset = \"seagreen\", \"greenyellow\"\n",
    "\n",
    "netflix[\"Category\"].value_counts().plot.pie(\n",
    "        colors = colorset, \n",
    "       radius = 1.0 , autopct = \"%1.1f%%\", explode=[0.02, 0.02])\n",
    "plt.title(\"Percentage of TV Shows & Movies released\", fontsize = 15)"
   ]
  },
  {
   "cell_type": "markdown",
   "id": "20b46487-ea1d-4a87-ba02-178f6adab966",
   "metadata": {},
   "source": [
    "#### Task 4.4\n",
    "Show all the Movies that were released in year 2000."
   ]
  },
  {
   "cell_type": "code",
   "execution_count": 26,
   "id": "37b24b93-b38f-4a3a-a37c-9e636e41d127",
   "metadata": {
    "tags": []
   },
   "outputs": [
    {
     "data": {
      "text/html": [
       "<div>\n",
       "<style scoped>\n",
       "    .dataframe tbody tr th:only-of-type {\n",
       "        vertical-align: middle;\n",
       "    }\n",
       "\n",
       "    .dataframe tbody tr th {\n",
       "        vertical-align: top;\n",
       "    }\n",
       "\n",
       "    .dataframe thead th {\n",
       "        text-align: right;\n",
       "    }\n",
       "</style>\n",
       "<table border=\"1\" class=\"dataframe\">\n",
       "  <thead>\n",
       "    <tr style=\"text-align: right;\">\n",
       "      <th></th>\n",
       "      <th>Show_Id</th>\n",
       "      <th>Category</th>\n",
       "      <th>Title</th>\n",
       "      <th>Director</th>\n",
       "      <th>Cast</th>\n",
       "      <th>Country</th>\n",
       "      <th>Release_Date</th>\n",
       "      <th>Rating</th>\n",
       "      <th>Duration</th>\n",
       "      <th>Type</th>\n",
       "      <th>Description</th>\n",
       "      <th>Date</th>\n",
       "      <th>month</th>\n",
       "      <th>year</th>\n",
       "      <th>minutes</th>\n",
       "      <th>unit</th>\n",
       "    </tr>\n",
       "  </thead>\n",
       "  <tbody>\n",
       "  </tbody>\n",
       "</table>\n",
       "</div>"
      ],
      "text/plain": [
       "Empty DataFrame\n",
       "Columns: [Show_Id, Category, Title, Director, Cast, Country, Release_Date, Rating, Duration, Type, Description, Date, month, year, minutes, unit]\n",
       "Index: []"
      ]
     },
     "execution_count": 26,
     "metadata": {},
     "output_type": "execute_result"
    }
   ],
   "source": [
    "netflix.loc[(netflix[\"Category\"] == \"Movie\") & (netflix[\"year\"] == 2000)]"
   ]
  },
  {
   "cell_type": "markdown",
   "id": "e45df9ec-e6b5-4c44-9b62-b58e466cfcfb",
   "metadata": {},
   "source": [
    "There were no movies released in 2000."
   ]
  },
  {
   "cell_type": "markdown",
   "id": "af8ab74f-6a44-455c-8d7b-fc243a9dc5a3",
   "metadata": {
    "tags": []
   },
   "source": [
    "#### Task 4.5\n",
    "Show only the Titles of all TV Shows that were released in India only"
   ]
  },
  {
   "cell_type": "code",
   "execution_count": 27,
   "id": "0102d139-0e74-4bab-8e4e-12c599c21c94",
   "metadata": {
    "tags": []
   },
   "outputs": [
    {
     "data": {
      "text/html": [
       "<div>\n",
       "<style scoped>\n",
       "    .dataframe tbody tr th:only-of-type {\n",
       "        vertical-align: middle;\n",
       "    }\n",
       "\n",
       "    .dataframe tbody tr th {\n",
       "        vertical-align: top;\n",
       "    }\n",
       "\n",
       "    .dataframe thead th {\n",
       "        text-align: right;\n",
       "    }\n",
       "</style>\n",
       "<table border=\"1\" class=\"dataframe\">\n",
       "  <thead>\n",
       "    <tr style=\"text-align: right;\">\n",
       "      <th></th>\n",
       "      <th>Title</th>\n",
       "    </tr>\n",
       "  </thead>\n",
       "  <tbody>\n",
       "    <tr>\n",
       "      <th>86</th>\n",
       "      <td>21 Sarfarosh: Saragarhi 1897</td>\n",
       "    </tr>\n",
       "    <tr>\n",
       "      <th>132</th>\n",
       "      <td>7 (Seven)</td>\n",
       "    </tr>\n",
       "    <tr>\n",
       "      <th>340</th>\n",
       "      <td>Agent Raghav</td>\n",
       "    </tr>\n",
       "    <tr>\n",
       "      <th>364</th>\n",
       "      <td>Akbar Birbal</td>\n",
       "    </tr>\n",
       "    <tr>\n",
       "      <th>533</th>\n",
       "      <td>Anjaan: Rural Myths</td>\n",
       "    </tr>\n",
       "    <tr>\n",
       "      <th>...</th>\n",
       "      <td>...</td>\n",
       "    </tr>\n",
       "    <tr>\n",
       "      <th>6249</th>\n",
       "      <td>The Creative Indians</td>\n",
       "    </tr>\n",
       "    <tr>\n",
       "      <th>6400</th>\n",
       "      <td>The Golden Years with Javed Akhtar</td>\n",
       "    </tr>\n",
       "    <tr>\n",
       "      <th>6469</th>\n",
       "      <td>The House That Made Me</td>\n",
       "    </tr>\n",
       "    <tr>\n",
       "      <th>7294</th>\n",
       "      <td>Typewriter</td>\n",
       "    </tr>\n",
       "    <tr>\n",
       "      <th>7705</th>\n",
       "      <td>Yeh Meri Family</td>\n",
       "    </tr>\n",
       "  </tbody>\n",
       "</table>\n",
       "<p>71 rows × 1 columns</p>\n",
       "</div>"
      ],
      "text/plain": [
       "                                   Title\n",
       "86          21 Sarfarosh: Saragarhi 1897\n",
       "132                            7 (Seven)\n",
       "340                         Agent Raghav\n",
       "364                         Akbar Birbal\n",
       "533                  Anjaan: Rural Myths\n",
       "...                                  ...\n",
       "6249                The Creative Indians\n",
       "6400  The Golden Years with Javed Akhtar\n",
       "6469              The House That Made Me\n",
       "7294                          Typewriter\n",
       "7705                     Yeh Meri Family\n",
       "\n",
       "[71 rows x 1 columns]"
      ]
     },
     "execution_count": 27,
     "metadata": {},
     "output_type": "execute_result"
    }
   ],
   "source": [
    "netflix.loc[(netflix[\"Category\"] == \"TV Show\") & (netflix[\"Country\"] == \"India\"), [\"Title\"]]"
   ]
  },
  {
   "cell_type": "markdown",
   "id": "ce10a467-c307-4a00-9410-be6d17160918",
   "metadata": {},
   "source": [
    "Seventy-one TV Shows were released in India."
   ]
  },
  {
   "cell_type": "markdown",
   "id": "6de377f0-2349-410f-a97a-aaea4dd40b5a",
   "metadata": {
    "tags": []
   },
   "source": [
    "#### Task 4.6\n",
    "Show Top 10 Directors, who gave the highest number of TV Shows & Movies to Netflix ?"
   ]
  },
  {
   "cell_type": "code",
   "execution_count": 28,
   "id": "bccf2f8e-2c1a-4c8e-b0b4-2ba7b87a8f99",
   "metadata": {
    "tags": []
   },
   "outputs": [
    {
     "data": {
      "text/plain": [
       "Director\n",
       "Raúl Campos, Jan Suter    18\n",
       "Marcus Raboy              16\n",
       "Jay Karas                 14\n",
       "Cathy Garcia-Molina       13\n",
       "Jay Chapman               12\n",
       "Youssef Chahine           12\n",
       "Martin Scorsese           12\n",
       "Steven Spielberg          10\n",
       "David Dhawan               9\n",
       "Hakan Algül                8\n",
       "Name: count, dtype: int64"
      ]
     },
     "execution_count": 28,
     "metadata": {},
     "output_type": "execute_result"
    }
   ],
   "source": [
    "netflix[\"Director\"].value_counts().head(10)"
   ]
  },
  {
   "cell_type": "markdown",
   "id": "6ae1edb5-d816-4859-a995-e729c66a5ad1",
   "metadata": {},
   "source": [
    "#### Task 4.7\n",
    "Show all the Records, where \"Category is Movie and Type is Comedies\" or \"Country is United Kingdom\"."
   ]
  },
  {
   "cell_type": "code",
   "execution_count": 29,
   "id": "21dfd56e-513c-4810-948e-a7eddfcea49a",
   "metadata": {
    "tags": []
   },
   "outputs": [
    {
     "data": {
      "text/html": [
       "<div>\n",
       "<style scoped>\n",
       "    .dataframe tbody tr th:only-of-type {\n",
       "        vertical-align: middle;\n",
       "    }\n",
       "\n",
       "    .dataframe tbody tr th {\n",
       "        vertical-align: top;\n",
       "    }\n",
       "\n",
       "    .dataframe thead th {\n",
       "        text-align: right;\n",
       "    }\n",
       "</style>\n",
       "<table border=\"1\" class=\"dataframe\">\n",
       "  <thead>\n",
       "    <tr style=\"text-align: right;\">\n",
       "      <th></th>\n",
       "      <th>Show_Id</th>\n",
       "      <th>Category</th>\n",
       "      <th>Title</th>\n",
       "      <th>Director</th>\n",
       "      <th>Cast</th>\n",
       "      <th>Country</th>\n",
       "      <th>Release_Date</th>\n",
       "      <th>Rating</th>\n",
       "      <th>Duration</th>\n",
       "      <th>Type</th>\n",
       "      <th>Description</th>\n",
       "      <th>Date</th>\n",
       "      <th>month</th>\n",
       "      <th>year</th>\n",
       "      <th>minutes</th>\n",
       "      <th>unit</th>\n",
       "    </tr>\n",
       "  </thead>\n",
       "  <tbody>\n",
       "    <tr>\n",
       "      <th>19</th>\n",
       "      <td>s20</td>\n",
       "      <td>Movie</td>\n",
       "      <td>'89</td>\n",
       "      <td>NaN</td>\n",
       "      <td>Lee Dixon, Ian Wright, Paul Merson</td>\n",
       "      <td>United Kingdom</td>\n",
       "      <td>May 16, 2018</td>\n",
       "      <td>TV-PG</td>\n",
       "      <td>87 min</td>\n",
       "      <td>Sports Movies</td>\n",
       "      <td>Mixing old footage with interviews, this is th...</td>\n",
       "      <td>2018-05-16</td>\n",
       "      <td>5</td>\n",
       "      <td>2018</td>\n",
       "      <td>87</td>\n",
       "      <td>min</td>\n",
       "    </tr>\n",
       "    <tr>\n",
       "      <th>33</th>\n",
       "      <td>s34</td>\n",
       "      <td>Movie</td>\n",
       "      <td>#realityhigh</td>\n",
       "      <td>Fernando Lebrija</td>\n",
       "      <td>Nesta Cooper, Kate Walsh, John Michael Higgins...</td>\n",
       "      <td>United States</td>\n",
       "      <td>September 8, 2017</td>\n",
       "      <td>TV-14</td>\n",
       "      <td>99 min</td>\n",
       "      <td>Comedies</td>\n",
       "      <td>When nerdy high schooler Dani finally attracts...</td>\n",
       "      <td>2017-09-08</td>\n",
       "      <td>9</td>\n",
       "      <td>2017</td>\n",
       "      <td>99</td>\n",
       "      <td>min</td>\n",
       "    </tr>\n",
       "    <tr>\n",
       "      <th>58</th>\n",
       "      <td>s59</td>\n",
       "      <td>TV Show</td>\n",
       "      <td>100% Hotter</td>\n",
       "      <td>NaN</td>\n",
       "      <td>Daniel Palmer, Melissa Sophia, Karen Williams,...</td>\n",
       "      <td>United Kingdom</td>\n",
       "      <td>November 1, 2019</td>\n",
       "      <td>TV-14</td>\n",
       "      <td>1 Season</td>\n",
       "      <td>British TV Shows, International TV Shows, Real...</td>\n",
       "      <td>A stylist, a hair designer and a makeup artist...</td>\n",
       "      <td>2019-11-01</td>\n",
       "      <td>11</td>\n",
       "      <td>2019</td>\n",
       "      <td>1</td>\n",
       "      <td>Season</td>\n",
       "    </tr>\n",
       "    <tr>\n",
       "      <th>72</th>\n",
       "      <td>s73</td>\n",
       "      <td>Movie</td>\n",
       "      <td>17 Again</td>\n",
       "      <td>Burr Steers</td>\n",
       "      <td>Zac Efron, Leslie Mann, Matthew Perry, Thomas ...</td>\n",
       "      <td>United States</td>\n",
       "      <td>January 1, 2021</td>\n",
       "      <td>PG-13</td>\n",
       "      <td>102 min</td>\n",
       "      <td>Comedies</td>\n",
       "      <td>Nearing a midlife crisis, thirty-something Mik...</td>\n",
       "      <td>2021-01-01</td>\n",
       "      <td>1</td>\n",
       "      <td>2021</td>\n",
       "      <td>102</td>\n",
       "      <td>min</td>\n",
       "    </tr>\n",
       "    <tr>\n",
       "      <th>82</th>\n",
       "      <td>s83</td>\n",
       "      <td>Movie</td>\n",
       "      <td>2036 Origin Unknown</td>\n",
       "      <td>Hasraf Dulull</td>\n",
       "      <td>Katee Sackhoff, Ray Fearon, Julie Cox, Steven ...</td>\n",
       "      <td>United Kingdom</td>\n",
       "      <td>December 20, 2018</td>\n",
       "      <td>TV-14</td>\n",
       "      <td>95 min</td>\n",
       "      <td>Sci-Fi &amp; Fantasy</td>\n",
       "      <td>Working with an artificial intelligence to inv...</td>\n",
       "      <td>2018-12-20</td>\n",
       "      <td>12</td>\n",
       "      <td>2018</td>\n",
       "      <td>95</td>\n",
       "      <td>min</td>\n",
       "    </tr>\n",
       "    <tr>\n",
       "      <th>...</th>\n",
       "      <td>...</td>\n",
       "      <td>...</td>\n",
       "      <td>...</td>\n",
       "      <td>...</td>\n",
       "      <td>...</td>\n",
       "      <td>...</td>\n",
       "      <td>...</td>\n",
       "      <td>...</td>\n",
       "      <td>...</td>\n",
       "      <td>...</td>\n",
       "      <td>...</td>\n",
       "      <td>...</td>\n",
       "      <td>...</td>\n",
       "      <td>...</td>\n",
       "      <td>...</td>\n",
       "      <td>...</td>\n",
       "    </tr>\n",
       "    <tr>\n",
       "      <th>7670</th>\n",
       "      <td>s7669</td>\n",
       "      <td>TV Show</td>\n",
       "      <td>World War II in Colour</td>\n",
       "      <td>NaN</td>\n",
       "      <td>Robert Powell</td>\n",
       "      <td>United Kingdom</td>\n",
       "      <td>August 1, 2017</td>\n",
       "      <td>TV-MA</td>\n",
       "      <td>1 Season</td>\n",
       "      <td>British TV Shows, Docuseries, International TV...</td>\n",
       "      <td>Footage of the most dramatic moments from Worl...</td>\n",
       "      <td>2017-08-01</td>\n",
       "      <td>8</td>\n",
       "      <td>2017</td>\n",
       "      <td>1</td>\n",
       "      <td>Season</td>\n",
       "    </tr>\n",
       "    <tr>\n",
       "      <th>7671</th>\n",
       "      <td>s7670</td>\n",
       "      <td>TV Show</td>\n",
       "      <td>World's Busiest Cities</td>\n",
       "      <td>NaN</td>\n",
       "      <td>Anita Rani, Ade Adepitan, Dan Snow</td>\n",
       "      <td>United Kingdom</td>\n",
       "      <td>February 1, 2019</td>\n",
       "      <td>TV-PG</td>\n",
       "      <td>1 Season</td>\n",
       "      <td>British TV Shows, Docuseries</td>\n",
       "      <td>From Moscow to Mexico City, three BBC journali...</td>\n",
       "      <td>2019-02-01</td>\n",
       "      <td>2</td>\n",
       "      <td>2019</td>\n",
       "      <td>1</td>\n",
       "      <td>Season</td>\n",
       "    </tr>\n",
       "    <tr>\n",
       "      <th>7688</th>\n",
       "      <td>s7687</td>\n",
       "      <td>Movie</td>\n",
       "      <td>XV: Beyond the Tryline</td>\n",
       "      <td>Pierre Deschamps</td>\n",
       "      <td>unknown</td>\n",
       "      <td>United Kingdom</td>\n",
       "      <td>March 18, 2020</td>\n",
       "      <td>TV-14</td>\n",
       "      <td>91 min</td>\n",
       "      <td>Documentaries, Sports Movies</td>\n",
       "      <td>Set against the 2015 Rugby World Cup, this doc...</td>\n",
       "      <td>2020-03-18</td>\n",
       "      <td>3</td>\n",
       "      <td>2020</td>\n",
       "      <td>91</td>\n",
       "      <td>min</td>\n",
       "    </tr>\n",
       "    <tr>\n",
       "      <th>7725</th>\n",
       "      <td>s7724</td>\n",
       "      <td>Movie</td>\n",
       "      <td>You Can Tutu</td>\n",
       "      <td>James Brown</td>\n",
       "      <td>Lily O'Regan, Jeannettsy Enriquez Borges, Joel...</td>\n",
       "      <td>United Kingdom</td>\n",
       "      <td>December 31, 2017</td>\n",
       "      <td>TV-G</td>\n",
       "      <td>87 min</td>\n",
       "      <td>Children &amp; Family Movies</td>\n",
       "      <td>A gifted young ballet dancer struggles to find...</td>\n",
       "      <td>2017-12-31</td>\n",
       "      <td>12</td>\n",
       "      <td>2017</td>\n",
       "      <td>87</td>\n",
       "      <td>min</td>\n",
       "    </tr>\n",
       "    <tr>\n",
       "      <th>7740</th>\n",
       "      <td>s7739</td>\n",
       "      <td>TV Show</td>\n",
       "      <td>Young Wallander</td>\n",
       "      <td>NaN</td>\n",
       "      <td>Adam Pålsson, Richard Dillane, Leanne Best, El...</td>\n",
       "      <td>United Kingdom</td>\n",
       "      <td>September 3, 2020</td>\n",
       "      <td>TV-MA</td>\n",
       "      <td>1 Season</td>\n",
       "      <td>Crime TV Shows, International TV Shows, TV Dramas</td>\n",
       "      <td>An incendiary hate crime stirs civil unrest, f...</td>\n",
       "      <td>2020-09-03</td>\n",
       "      <td>9</td>\n",
       "      <td>2020</td>\n",
       "      <td>1</td>\n",
       "      <td>Season</td>\n",
       "    </tr>\n",
       "  </tbody>\n",
       "</table>\n",
       "<p>485 rows × 16 columns</p>\n",
       "</div>"
      ],
      "text/plain": [
       "     Show_Id Category                   Title          Director  \\\n",
       "19       s20    Movie                     '89               NaN   \n",
       "33       s34    Movie            #realityhigh  Fernando Lebrija   \n",
       "58       s59  TV Show             100% Hotter               NaN   \n",
       "72       s73    Movie                17 Again       Burr Steers   \n",
       "82       s83    Movie     2036 Origin Unknown     Hasraf Dulull   \n",
       "...      ...      ...                     ...               ...   \n",
       "7670   s7669  TV Show  World War II in Colour               NaN   \n",
       "7671   s7670  TV Show  World's Busiest Cities               NaN   \n",
       "7688   s7687    Movie  XV: Beyond the Tryline  Pierre Deschamps   \n",
       "7725   s7724    Movie            You Can Tutu       James Brown   \n",
       "7740   s7739  TV Show         Young Wallander               NaN   \n",
       "\n",
       "                                                   Cast         Country  \\\n",
       "19                   Lee Dixon, Ian Wright, Paul Merson  United Kingdom   \n",
       "33    Nesta Cooper, Kate Walsh, John Michael Higgins...   United States   \n",
       "58    Daniel Palmer, Melissa Sophia, Karen Williams,...  United Kingdom   \n",
       "72    Zac Efron, Leslie Mann, Matthew Perry, Thomas ...   United States   \n",
       "82    Katee Sackhoff, Ray Fearon, Julie Cox, Steven ...  United Kingdom   \n",
       "...                                                 ...             ...   \n",
       "7670                                      Robert Powell  United Kingdom   \n",
       "7671                 Anita Rani, Ade Adepitan, Dan Snow  United Kingdom   \n",
       "7688                                            unknown  United Kingdom   \n",
       "7725  Lily O'Regan, Jeannettsy Enriquez Borges, Joel...  United Kingdom   \n",
       "7740  Adam Pålsson, Richard Dillane, Leanne Best, El...  United Kingdom   \n",
       "\n",
       "           Release_Date Rating  Duration  \\\n",
       "19         May 16, 2018  TV-PG    87 min   \n",
       "33    September 8, 2017  TV-14    99 min   \n",
       "58     November 1, 2019  TV-14  1 Season   \n",
       "72      January 1, 2021  PG-13   102 min   \n",
       "82    December 20, 2018  TV-14    95 min   \n",
       "...                 ...    ...       ...   \n",
       "7670     August 1, 2017  TV-MA  1 Season   \n",
       "7671   February 1, 2019  TV-PG  1 Season   \n",
       "7688     March 18, 2020  TV-14    91 min   \n",
       "7725  December 31, 2017   TV-G    87 min   \n",
       "7740  September 3, 2020  TV-MA  1 Season   \n",
       "\n",
       "                                                   Type  \\\n",
       "19                                        Sports Movies   \n",
       "33                                             Comedies   \n",
       "58    British TV Shows, International TV Shows, Real...   \n",
       "72                                             Comedies   \n",
       "82                                     Sci-Fi & Fantasy   \n",
       "...                                                 ...   \n",
       "7670  British TV Shows, Docuseries, International TV...   \n",
       "7671                       British TV Shows, Docuseries   \n",
       "7688                       Documentaries, Sports Movies   \n",
       "7725                           Children & Family Movies   \n",
       "7740  Crime TV Shows, International TV Shows, TV Dramas   \n",
       "\n",
       "                                            Description       Date  month  \\\n",
       "19    Mixing old footage with interviews, this is th... 2018-05-16      5   \n",
       "33    When nerdy high schooler Dani finally attracts... 2017-09-08      9   \n",
       "58    A stylist, a hair designer and a makeup artist... 2019-11-01     11   \n",
       "72    Nearing a midlife crisis, thirty-something Mik... 2021-01-01      1   \n",
       "82    Working with an artificial intelligence to inv... 2018-12-20     12   \n",
       "...                                                 ...        ...    ...   \n",
       "7670  Footage of the most dramatic moments from Worl... 2017-08-01      8   \n",
       "7671  From Moscow to Mexico City, three BBC journali... 2019-02-01      2   \n",
       "7688  Set against the 2015 Rugby World Cup, this doc... 2020-03-18      3   \n",
       "7725  A gifted young ballet dancer struggles to find... 2017-12-31     12   \n",
       "7740  An incendiary hate crime stirs civil unrest, f... 2020-09-03      9   \n",
       "\n",
       "      year  minutes    unit  \n",
       "19    2018       87     min  \n",
       "33    2017       99     min  \n",
       "58    2019        1  Season  \n",
       "72    2021      102     min  \n",
       "82    2018       95     min  \n",
       "...    ...      ...     ...  \n",
       "7670  2017        1  Season  \n",
       "7671  2019        1  Season  \n",
       "7688  2020       91     min  \n",
       "7725  2017       87     min  \n",
       "7740  2020        1  Season  \n",
       "\n",
       "[485 rows x 16 columns]"
      ]
     },
     "execution_count": 29,
     "metadata": {},
     "output_type": "execute_result"
    }
   ],
   "source": [
    "netflix.loc[\n",
    "    (netflix[\"Category\"] == \"Movie\") & (netflix[\"Type\"] == \"Comedies\") | (netflix[\"Country\"] == \"United Kingdom\") ]"
   ]
  },
  {
   "cell_type": "markdown",
   "id": "d89d64aa-c7ee-426d-9070-4a00d648acbc",
   "metadata": {},
   "source": [
    "There are 485 Movies that were were of Comedy type and either released in the Uk."
   ]
  },
  {
   "cell_type": "markdown",
   "id": "8b8227eb-e8b4-480d-96da-7229ab9014ff",
   "metadata": {},
   "source": [
    "#### Task 4.8\n",
    "In how many movies/shows, Tom Cruise was cast ?"
   ]
  },
  {
   "cell_type": "code",
   "execution_count": 30,
   "id": "8f941018-8647-4768-a81f-56ba9fcd8b9e",
   "metadata": {
    "tags": []
   },
   "outputs": [
    {
     "data": {
      "text/html": [
       "<div>\n",
       "<style scoped>\n",
       "    .dataframe tbody tr th:only-of-type {\n",
       "        vertical-align: middle;\n",
       "    }\n",
       "\n",
       "    .dataframe tbody tr th {\n",
       "        vertical-align: top;\n",
       "    }\n",
       "\n",
       "    .dataframe thead th {\n",
       "        text-align: right;\n",
       "    }\n",
       "</style>\n",
       "<table border=\"1\" class=\"dataframe\">\n",
       "  <thead>\n",
       "    <tr style=\"text-align: right;\">\n",
       "      <th></th>\n",
       "      <th>Show_Id</th>\n",
       "      <th>Category</th>\n",
       "      <th>Title</th>\n",
       "      <th>Director</th>\n",
       "      <th>Cast</th>\n",
       "      <th>Country</th>\n",
       "      <th>Release_Date</th>\n",
       "      <th>Rating</th>\n",
       "      <th>Duration</th>\n",
       "      <th>Type</th>\n",
       "      <th>Description</th>\n",
       "      <th>Date</th>\n",
       "      <th>month</th>\n",
       "      <th>year</th>\n",
       "      <th>minutes</th>\n",
       "      <th>unit</th>\n",
       "    </tr>\n",
       "  </thead>\n",
       "  <tbody>\n",
       "    <tr>\n",
       "      <th>3860</th>\n",
       "      <td>s3861</td>\n",
       "      <td>Movie</td>\n",
       "      <td>Magnolia</td>\n",
       "      <td>Paul Thomas Anderson</td>\n",
       "      <td>Jeremy Blackman, Tom Cruise, Melinda Dillon, A...</td>\n",
       "      <td>United States</td>\n",
       "      <td>January 1, 2020</td>\n",
       "      <td>R</td>\n",
       "      <td>189 min</td>\n",
       "      <td>Dramas, Independent Movies</td>\n",
       "      <td>Through chance, human action, past history and...</td>\n",
       "      <td>2020-01-01</td>\n",
       "      <td>1</td>\n",
       "      <td>2020</td>\n",
       "      <td>189</td>\n",
       "      <td>min</td>\n",
       "    </tr>\n",
       "    <tr>\n",
       "      <th>5071</th>\n",
       "      <td>s5071</td>\n",
       "      <td>Movie</td>\n",
       "      <td>Rain Man</td>\n",
       "      <td>Barry Levinson</td>\n",
       "      <td>Dustin Hoffman, Tom Cruise, Valeria Golino, Ge...</td>\n",
       "      <td>United States</td>\n",
       "      <td>July 1, 2019</td>\n",
       "      <td>R</td>\n",
       "      <td>134 min</td>\n",
       "      <td>Classic Movies, Dramas</td>\n",
       "      <td>A fast-talking yuppie is forced to slow down w...</td>\n",
       "      <td>2019-07-01</td>\n",
       "      <td>7</td>\n",
       "      <td>2019</td>\n",
       "      <td>134</td>\n",
       "      <td>min</td>\n",
       "    </tr>\n",
       "  </tbody>\n",
       "</table>\n",
       "</div>"
      ],
      "text/plain": [
       "     Show_Id Category     Title              Director  \\\n",
       "3860   s3861    Movie  Magnolia  Paul Thomas Anderson   \n",
       "5071   s5071    Movie  Rain Man        Barry Levinson   \n",
       "\n",
       "                                                   Cast        Country  \\\n",
       "3860  Jeremy Blackman, Tom Cruise, Melinda Dillon, A...  United States   \n",
       "5071  Dustin Hoffman, Tom Cruise, Valeria Golino, Ge...  United States   \n",
       "\n",
       "         Release_Date Rating Duration                        Type  \\\n",
       "3860  January 1, 2020      R  189 min  Dramas, Independent Movies   \n",
       "5071     July 1, 2019      R  134 min      Classic Movies, Dramas   \n",
       "\n",
       "                                            Description       Date  month  \\\n",
       "3860  Through chance, human action, past history and... 2020-01-01      1   \n",
       "5071  A fast-talking yuppie is forced to slow down w... 2019-07-01      7   \n",
       "\n",
       "      year  minutes unit  \n",
       "3860  2020      189  min  \n",
       "5071  2019      134  min  "
      ]
     },
     "execution_count": 30,
     "metadata": {},
     "output_type": "execute_result"
    }
   ],
   "source": [
    "netflix[netflix[\"Cast\"].str.contains(\"Tom Cruise\")]"
   ]
  },
  {
   "cell_type": "markdown",
   "id": "9e79dee2-5aae-4c5f-b34f-06070ab00dce",
   "metadata": {},
   "source": [
    "There were two movies where Tom Cruise was a cast."
   ]
  },
  {
   "cell_type": "markdown",
   "id": "b1268144-f070-4610-a467-2a599b38dfaf",
   "metadata": {},
   "source": [
    "#### Task 4.9\n",
    "What are the different Ratings defined by Netflix ?"
   ]
  },
  {
   "cell_type": "code",
   "execution_count": 31,
   "id": "a790c3d9-25ce-4368-b630-127baff1392f",
   "metadata": {
    "tags": []
   },
   "outputs": [
    {
     "data": {
      "text/plain": [
       "14"
      ]
     },
     "execution_count": 31,
     "metadata": {},
     "output_type": "execute_result"
    }
   ],
   "source": [
    "netflix[\"Rating\"].nunique()"
   ]
  },
  {
   "cell_type": "code",
   "execution_count": 32,
   "id": "815ff044-a2bc-4095-be82-0883b28b31ab",
   "metadata": {
    "tags": []
   },
   "outputs": [
    {
     "data": {
      "text/plain": [
       "array(['TV-MA', 'R', 'PG-13', 'TV-14', 'TV-PG', 'NR', 'TV-G', 'TV-Y',\n",
       "       'TV-Y7', 'PG', 'G', 'NC-17', 'TV-Y7-FV', 'UR'], dtype=object)"
      ]
     },
     "execution_count": 32,
     "metadata": {},
     "output_type": "execute_result"
    }
   ],
   "source": [
    "netflix[\"Rating\"].unique()"
   ]
  },
  {
   "cell_type": "markdown",
   "id": "f551a948-7b46-4ea1-b4d0-8e53b145fb16",
   "metadata": {},
   "source": [
    "#### Task 4.9.1\n",
    "How many Movies got the 'TV-14' rating, in Canada ?"
   ]
  },
  {
   "cell_type": "code",
   "execution_count": 33,
   "id": "bf959522-c790-452c-933b-fc4d5e6cc80a",
   "metadata": {
    "tags": []
   },
   "outputs": [
    {
     "data": {
      "text/html": [
       "<div>\n",
       "<style scoped>\n",
       "    .dataframe tbody tr th:only-of-type {\n",
       "        vertical-align: middle;\n",
       "    }\n",
       "\n",
       "    .dataframe tbody tr th {\n",
       "        vertical-align: top;\n",
       "    }\n",
       "\n",
       "    .dataframe thead th {\n",
       "        text-align: right;\n",
       "    }\n",
       "</style>\n",
       "<table border=\"1\" class=\"dataframe\">\n",
       "  <thead>\n",
       "    <tr style=\"text-align: right;\">\n",
       "      <th></th>\n",
       "      <th>Show_Id</th>\n",
       "      <th>Category</th>\n",
       "      <th>Title</th>\n",
       "      <th>Director</th>\n",
       "      <th>Cast</th>\n",
       "      <th>Country</th>\n",
       "      <th>Release_Date</th>\n",
       "      <th>Rating</th>\n",
       "      <th>Duration</th>\n",
       "      <th>Type</th>\n",
       "      <th>Description</th>\n",
       "      <th>Date</th>\n",
       "      <th>month</th>\n",
       "      <th>year</th>\n",
       "      <th>minutes</th>\n",
       "      <th>unit</th>\n",
       "    </tr>\n",
       "  </thead>\n",
       "  <tbody>\n",
       "    <tr>\n",
       "      <th>30</th>\n",
       "      <td>s31</td>\n",
       "      <td>Movie</td>\n",
       "      <td>#cats_the_mewvie</td>\n",
       "      <td>Michael Margolis</td>\n",
       "      <td>unknown</td>\n",
       "      <td>Canada</td>\n",
       "      <td>February 5, 2020</td>\n",
       "      <td>TV-14</td>\n",
       "      <td>90 min</td>\n",
       "      <td>Documentaries, International Movies</td>\n",
       "      <td>This pawesome documentary explores how our fel...</td>\n",
       "      <td>2020-02-05</td>\n",
       "      <td>2</td>\n",
       "      <td>2020</td>\n",
       "      <td>90</td>\n",
       "      <td>min</td>\n",
       "    </tr>\n",
       "    <tr>\n",
       "      <th>34</th>\n",
       "      <td>s35</td>\n",
       "      <td>Movie</td>\n",
       "      <td>#Roxy</td>\n",
       "      <td>Michael Kennedy</td>\n",
       "      <td>Jake Short, Sarah Fisher, Booboo Stewart, Dann...</td>\n",
       "      <td>Canada</td>\n",
       "      <td>April 10, 2019</td>\n",
       "      <td>TV-14</td>\n",
       "      <td>105 min</td>\n",
       "      <td>Comedies, Romantic Movies</td>\n",
       "      <td>A teenage hacker with a huge nose helps a cool...</td>\n",
       "      <td>2019-04-10</td>\n",
       "      <td>4</td>\n",
       "      <td>2019</td>\n",
       "      <td>105</td>\n",
       "      <td>min</td>\n",
       "    </tr>\n",
       "    <tr>\n",
       "      <th>608</th>\n",
       "      <td>s609</td>\n",
       "      <td>Movie</td>\n",
       "      <td>At First Light</td>\n",
       "      <td>Jason Stone</td>\n",
       "      <td>Stefanie Scott, Theodore Pellerin, Percy Hynes...</td>\n",
       "      <td>Canada</td>\n",
       "      <td>December 27, 2018</td>\n",
       "      <td>TV-14</td>\n",
       "      <td>91 min</td>\n",
       "      <td>Dramas, Sci-Fi &amp; Fantasy</td>\n",
       "      <td>After mysterious lights imbue her with extraor...</td>\n",
       "      <td>2018-12-27</td>\n",
       "      <td>12</td>\n",
       "      <td>2018</td>\n",
       "      <td>91</td>\n",
       "      <td>min</td>\n",
       "    </tr>\n",
       "    <tr>\n",
       "      <th>1506</th>\n",
       "      <td>s1507</td>\n",
       "      <td>Movie</td>\n",
       "      <td>Counterfeiting in Suburbia</td>\n",
       "      <td>Jason Bourque</td>\n",
       "      <td>Sarah Butler, Larissa Albuquerque, Kayla Walla...</td>\n",
       "      <td>Canada</td>\n",
       "      <td>July 1, 2018</td>\n",
       "      <td>TV-14</td>\n",
       "      <td>88 min</td>\n",
       "      <td>Dramas, Thrillers</td>\n",
       "      <td>Two teenagers print counterfeit money in their...</td>\n",
       "      <td>2018-07-01</td>\n",
       "      <td>7</td>\n",
       "      <td>2018</td>\n",
       "      <td>88</td>\n",
       "      <td>min</td>\n",
       "    </tr>\n",
       "    <tr>\n",
       "      <th>3713</th>\n",
       "      <td>s3714</td>\n",
       "      <td>Movie</td>\n",
       "      <td>Long Time Running</td>\n",
       "      <td>Jennifer Baichwal, Nicholas de Pencier</td>\n",
       "      <td>Gord Downie, Paul Langlois, Gord Sinclair, Rob...</td>\n",
       "      <td>Canada</td>\n",
       "      <td>November 12, 2017</td>\n",
       "      <td>TV-14</td>\n",
       "      <td>96 min</td>\n",
       "      <td>Documentaries, International Movies, Music &amp; M...</td>\n",
       "      <td>This documentary follows the 2016 tour of belo...</td>\n",
       "      <td>2017-11-12</td>\n",
       "      <td>11</td>\n",
       "      <td>2017</td>\n",
       "      <td>96</td>\n",
       "      <td>min</td>\n",
       "    </tr>\n",
       "    <tr>\n",
       "      <th>3956</th>\n",
       "      <td>s3957</td>\n",
       "      <td>Movie</td>\n",
       "      <td>Martin Matte: La vie, la mort...eh la la..!</td>\n",
       "      <td>Jean-François Blais</td>\n",
       "      <td>Martin Matte</td>\n",
       "      <td>Canada</td>\n",
       "      <td>October 14, 2019</td>\n",
       "      <td>TV-14</td>\n",
       "      <td>62 min</td>\n",
       "      <td>Stand-Up Comedy</td>\n",
       "      <td>Quebecois comedy star Martin Matte serves up e...</td>\n",
       "      <td>2019-10-14</td>\n",
       "      <td>10</td>\n",
       "      <td>2019</td>\n",
       "      <td>62</td>\n",
       "      <td>min</td>\n",
       "    </tr>\n",
       "    <tr>\n",
       "      <th>5336</th>\n",
       "      <td>s5336</td>\n",
       "      <td>Movie</td>\n",
       "      <td>Sadie's Last Days on Earth</td>\n",
       "      <td>Michael Seater</td>\n",
       "      <td>Morgan Taylor Campbell, Clark Backo, Ricardo H...</td>\n",
       "      <td>Canada</td>\n",
       "      <td>August 22, 2017</td>\n",
       "      <td>TV-14</td>\n",
       "      <td>94 min</td>\n",
       "      <td>Comedies, Sci-Fi &amp; Fantasy</td>\n",
       "      <td>High schooler Sadie Mitchell believes the worl...</td>\n",
       "      <td>2017-08-22</td>\n",
       "      <td>8</td>\n",
       "      <td>2017</td>\n",
       "      <td>94</td>\n",
       "      <td>min</td>\n",
       "    </tr>\n",
       "    <tr>\n",
       "      <th>5393</th>\n",
       "      <td>s5393</td>\n",
       "      <td>Movie</td>\n",
       "      <td>Sardaar ji</td>\n",
       "      <td>Rohit Jugraj</td>\n",
       "      <td>Diljit Dosanjh, Neeru Bajwa, Mandy Takhar, Jas...</td>\n",
       "      <td>Canada</td>\n",
       "      <td>December 1, 2017</td>\n",
       "      <td>TV-14</td>\n",
       "      <td>140 min</td>\n",
       "      <td>Comedies, International Movies, Music &amp; Musicals</td>\n",
       "      <td>When a palatial wedding venue turns out to be ...</td>\n",
       "      <td>2017-12-01</td>\n",
       "      <td>12</td>\n",
       "      <td>2017</td>\n",
       "      <td>140</td>\n",
       "      <td>min</td>\n",
       "    </tr>\n",
       "    <tr>\n",
       "      <th>6062</th>\n",
       "      <td>s6062</td>\n",
       "      <td>Movie</td>\n",
       "      <td>The Accountant of Auschwitz</td>\n",
       "      <td>Matthew Shoychet</td>\n",
       "      <td>unknown</td>\n",
       "      <td>Canada</td>\n",
       "      <td>July 1, 2019</td>\n",
       "      <td>TV-14</td>\n",
       "      <td>78 min</td>\n",
       "      <td>Documentaries, International Movies</td>\n",
       "      <td>Decades after WWII, a former SS officer stands...</td>\n",
       "      <td>2019-07-01</td>\n",
       "      <td>7</td>\n",
       "      <td>2019</td>\n",
       "      <td>78</td>\n",
       "      <td>min</td>\n",
       "    </tr>\n",
       "    <tr>\n",
       "      <th>7025</th>\n",
       "      <td>s7024</td>\n",
       "      <td>Movie</td>\n",
       "      <td>The Wrong Babysitter</td>\n",
       "      <td>George Mendeluk</td>\n",
       "      <td>Daphne Zuniga, Seann Gallagher, Lisa Marie Car...</td>\n",
       "      <td>Canada</td>\n",
       "      <td>June 18, 2019</td>\n",
       "      <td>TV-14</td>\n",
       "      <td>89 min</td>\n",
       "      <td>Thrillers</td>\n",
       "      <td>A widow searches for her missing teenage daugh...</td>\n",
       "      <td>2019-06-18</td>\n",
       "      <td>6</td>\n",
       "      <td>2019</td>\n",
       "      <td>89</td>\n",
       "      <td>min</td>\n",
       "    </tr>\n",
       "    <tr>\n",
       "      <th>7041</th>\n",
       "      <td>s7040</td>\n",
       "      <td>Movie</td>\n",
       "      <td>There's Something in the Water</td>\n",
       "      <td>Ellen Page, Ian Daniel</td>\n",
       "      <td>Ellen Page</td>\n",
       "      <td>Canada</td>\n",
       "      <td>March 27, 2020</td>\n",
       "      <td>TV-14</td>\n",
       "      <td>72 min</td>\n",
       "      <td>Documentaries, International Movies</td>\n",
       "      <td>This documentary spotlights the struggle of mi...</td>\n",
       "      <td>2020-03-27</td>\n",
       "      <td>3</td>\n",
       "      <td>2020</td>\n",
       "      <td>72</td>\n",
       "      <td>min</td>\n",
       "    </tr>\n",
       "  </tbody>\n",
       "</table>\n",
       "</div>"
      ],
      "text/plain": [
       "     Show_Id Category                                        Title  \\\n",
       "30       s31    Movie                             #cats_the_mewvie   \n",
       "34       s35    Movie                                        #Roxy   \n",
       "608     s609    Movie                               At First Light   \n",
       "1506   s1507    Movie                   Counterfeiting in Suburbia   \n",
       "3713   s3714    Movie                            Long Time Running   \n",
       "3956   s3957    Movie  Martin Matte: La vie, la mort...eh la la..!   \n",
       "5336   s5336    Movie                   Sadie's Last Days on Earth   \n",
       "5393   s5393    Movie                                   Sardaar ji   \n",
       "6062   s6062    Movie                  The Accountant of Auschwitz   \n",
       "7025   s7024    Movie                         The Wrong Babysitter   \n",
       "7041   s7040    Movie               There's Something in the Water   \n",
       "\n",
       "                                    Director  \\\n",
       "30                          Michael Margolis   \n",
       "34                           Michael Kennedy   \n",
       "608                              Jason Stone   \n",
       "1506                           Jason Bourque   \n",
       "3713  Jennifer Baichwal, Nicholas de Pencier   \n",
       "3956                     Jean-François Blais   \n",
       "5336                          Michael Seater   \n",
       "5393                            Rohit Jugraj   \n",
       "6062                        Matthew Shoychet   \n",
       "7025                         George Mendeluk   \n",
       "7041                  Ellen Page, Ian Daniel   \n",
       "\n",
       "                                                   Cast Country  \\\n",
       "30                                              unknown  Canada   \n",
       "34    Jake Short, Sarah Fisher, Booboo Stewart, Dann...  Canada   \n",
       "608   Stefanie Scott, Theodore Pellerin, Percy Hynes...  Canada   \n",
       "1506  Sarah Butler, Larissa Albuquerque, Kayla Walla...  Canada   \n",
       "3713  Gord Downie, Paul Langlois, Gord Sinclair, Rob...  Canada   \n",
       "3956                                       Martin Matte  Canada   \n",
       "5336  Morgan Taylor Campbell, Clark Backo, Ricardo H...  Canada   \n",
       "5393  Diljit Dosanjh, Neeru Bajwa, Mandy Takhar, Jas...  Canada   \n",
       "6062                                            unknown  Canada   \n",
       "7025  Daphne Zuniga, Seann Gallagher, Lisa Marie Car...  Canada   \n",
       "7041                                         Ellen Page  Canada   \n",
       "\n",
       "           Release_Date Rating Duration  \\\n",
       "30     February 5, 2020  TV-14   90 min   \n",
       "34       April 10, 2019  TV-14  105 min   \n",
       "608   December 27, 2018  TV-14   91 min   \n",
       "1506       July 1, 2018  TV-14   88 min   \n",
       "3713  November 12, 2017  TV-14   96 min   \n",
       "3956   October 14, 2019  TV-14   62 min   \n",
       "5336    August 22, 2017  TV-14   94 min   \n",
       "5393   December 1, 2017  TV-14  140 min   \n",
       "6062       July 1, 2019  TV-14   78 min   \n",
       "7025      June 18, 2019  TV-14   89 min   \n",
       "7041     March 27, 2020  TV-14   72 min   \n",
       "\n",
       "                                                   Type  \\\n",
       "30                  Documentaries, International Movies   \n",
       "34                            Comedies, Romantic Movies   \n",
       "608                            Dramas, Sci-Fi & Fantasy   \n",
       "1506                                  Dramas, Thrillers   \n",
       "3713  Documentaries, International Movies, Music & M...   \n",
       "3956                                    Stand-Up Comedy   \n",
       "5336                         Comedies, Sci-Fi & Fantasy   \n",
       "5393   Comedies, International Movies, Music & Musicals   \n",
       "6062                Documentaries, International Movies   \n",
       "7025                                          Thrillers   \n",
       "7041                Documentaries, International Movies   \n",
       "\n",
       "                                            Description       Date  month  \\\n",
       "30    This pawesome documentary explores how our fel... 2020-02-05      2   \n",
       "34    A teenage hacker with a huge nose helps a cool... 2019-04-10      4   \n",
       "608   After mysterious lights imbue her with extraor... 2018-12-27     12   \n",
       "1506  Two teenagers print counterfeit money in their... 2018-07-01      7   \n",
       "3713  This documentary follows the 2016 tour of belo... 2017-11-12     11   \n",
       "3956  Quebecois comedy star Martin Matte serves up e... 2019-10-14     10   \n",
       "5336  High schooler Sadie Mitchell believes the worl... 2017-08-22      8   \n",
       "5393  When a palatial wedding venue turns out to be ... 2017-12-01     12   \n",
       "6062  Decades after WWII, a former SS officer stands... 2019-07-01      7   \n",
       "7025  A widow searches for her missing teenage daugh... 2019-06-18      6   \n",
       "7041  This documentary spotlights the struggle of mi... 2020-03-27      3   \n",
       "\n",
       "      year  minutes unit  \n",
       "30    2020       90  min  \n",
       "34    2019      105  min  \n",
       "608   2018       91  min  \n",
       "1506  2018       88  min  \n",
       "3713  2017       96  min  \n",
       "3956  2019       62  min  \n",
       "5336  2017       94  min  \n",
       "5393  2017      140  min  \n",
       "6062  2019       78  min  \n",
       "7025  2019       89  min  \n",
       "7041  2020       72  min  "
      ]
     },
     "execution_count": 33,
     "metadata": {},
     "output_type": "execute_result"
    }
   ],
   "source": [
    "netflix.loc[\n",
    "    (netflix[\"Category\"] == \"Movie\") & (netflix[\"Rating\"] == \"TV-14\") & (netflix[\"Country\"] == \"Canada\") ]"
   ]
  },
  {
   "cell_type": "code",
   "execution_count": 34,
   "id": "f3ffe226-54d0-4295-bb51-f427f4222f80",
   "metadata": {
    "tags": []
   },
   "outputs": [
    {
     "data": {
      "text/plain": [
       "(11, 16)"
      ]
     },
     "execution_count": 34,
     "metadata": {},
     "output_type": "execute_result"
    }
   ],
   "source": [
    "netflix.loc[\n",
    "    (netflix[\"Category\"] == \"Movie\") & (netflix[\"Rating\"] == \"TV-14\") & (netflix[\"Country\"] == \"Canada\") ].shape"
   ]
  },
  {
   "cell_type": "markdown",
   "id": "69b28889-63d9-4ce1-90bd-628491c2fedc",
   "metadata": {},
   "source": [
    "There are 11 movies with TV-14 rating, in Canada "
   ]
  },
  {
   "cell_type": "markdown",
   "id": "247b8785-4dd6-4cce-9c64-907fe782e1fc",
   "metadata": {},
   "source": [
    "#### Task 4.9.2\n",
    "How many TV Shows got the 'R' rating, after year 2018 ?"
   ]
  },
  {
   "cell_type": "code",
   "execution_count": 35,
   "id": "e8f1ae39-d7a9-4f43-9858-7e33314f4cde",
   "metadata": {
    "tags": []
   },
   "outputs": [
    {
     "data": {
      "text/html": [
       "<div>\n",
       "<style scoped>\n",
       "    .dataframe tbody tr th:only-of-type {\n",
       "        vertical-align: middle;\n",
       "    }\n",
       "\n",
       "    .dataframe tbody tr th {\n",
       "        vertical-align: top;\n",
       "    }\n",
       "\n",
       "    .dataframe thead th {\n",
       "        text-align: right;\n",
       "    }\n",
       "</style>\n",
       "<table border=\"1\" class=\"dataframe\">\n",
       "  <thead>\n",
       "    <tr style=\"text-align: right;\">\n",
       "      <th></th>\n",
       "      <th>Show_Id</th>\n",
       "      <th>Category</th>\n",
       "      <th>Title</th>\n",
       "      <th>Director</th>\n",
       "      <th>Cast</th>\n",
       "      <th>Country</th>\n",
       "      <th>Release_Date</th>\n",
       "      <th>Rating</th>\n",
       "      <th>Duration</th>\n",
       "      <th>Type</th>\n",
       "      <th>Description</th>\n",
       "      <th>Date</th>\n",
       "      <th>month</th>\n",
       "      <th>year</th>\n",
       "      <th>minutes</th>\n",
       "      <th>unit</th>\n",
       "    </tr>\n",
       "  </thead>\n",
       "  <tbody>\n",
       "    <tr>\n",
       "      <th>6437</th>\n",
       "      <td>s6436</td>\n",
       "      <td>TV Show</td>\n",
       "      <td>The Hateful Eight: Extended Version</td>\n",
       "      <td>Quentin Tarantino</td>\n",
       "      <td>Samuel L. Jackson, Kurt Russell, Jennifer Jaso...</td>\n",
       "      <td>NaN</td>\n",
       "      <td>April 25, 2019</td>\n",
       "      <td>R</td>\n",
       "      <td>1 Season</td>\n",
       "      <td>TV Shows</td>\n",
       "      <td>Trapped at a stagecoach stop as a storm rages ...</td>\n",
       "      <td>2019-04-25</td>\n",
       "      <td>4</td>\n",
       "      <td>2019</td>\n",
       "      <td>1</td>\n",
       "      <td>Season</td>\n",
       "    </tr>\n",
       "  </tbody>\n",
       "</table>\n",
       "</div>"
      ],
      "text/plain": [
       "     Show_Id Category                                Title           Director  \\\n",
       "6437   s6436  TV Show  The Hateful Eight: Extended Version  Quentin Tarantino   \n",
       "\n",
       "                                                   Cast Country  \\\n",
       "6437  Samuel L. Jackson, Kurt Russell, Jennifer Jaso...     NaN   \n",
       "\n",
       "        Release_Date Rating  Duration      Type  \\\n",
       "6437  April 25, 2019      R  1 Season  TV Shows   \n",
       "\n",
       "                                            Description       Date  month  \\\n",
       "6437  Trapped at a stagecoach stop as a storm rages ... 2019-04-25      4   \n",
       "\n",
       "      year  minutes    unit  \n",
       "6437  2019        1  Season  "
      ]
     },
     "execution_count": 35,
     "metadata": {},
     "output_type": "execute_result"
    }
   ],
   "source": [
    "netflix.query(\"Category == 'TV Show' & Rating == 'R' & year > 2018\")"
   ]
  },
  {
   "cell_type": "markdown",
   "id": "89ad905d-620a-45aa-be8f-0560c0f5e4d9",
   "metadata": {},
   "source": [
    "One TV Show got the R rating after 2018"
   ]
  },
  {
   "cell_type": "markdown",
   "id": "b74eaa20-1f7e-4163-aef2-b32829bd1be7",
   "metadata": {},
   "source": [
    "#### Task 4.10\n",
    "What is the maximum duration of a Movie/Show on Netflix ?"
   ]
  },
  {
   "cell_type": "code",
   "execution_count": 36,
   "id": "c6fe3cae-2826-43a8-a430-2ebf26de3095",
   "metadata": {
    "tags": []
   },
   "outputs": [
    {
     "data": {
      "text/plain": [
       "312"
      ]
     },
     "execution_count": 36,
     "metadata": {},
     "output_type": "execute_result"
    }
   ],
   "source": [
    "movie = netflix.query(\"Category == 'Movie' \")\n",
    "movie[\"minutes\"].max()"
   ]
  },
  {
   "cell_type": "code",
   "execution_count": 37,
   "id": "6b49cb25-962a-4582-84d1-562dd8ddac7c",
   "metadata": {
    "tags": []
   },
   "outputs": [
    {
     "data": {
      "text/plain": [
       "16"
      ]
     },
     "execution_count": 37,
     "metadata": {},
     "output_type": "execute_result"
    }
   ],
   "source": [
    "tv_show = netflix.query(\"Category == 'TV Show' \")\n",
    "tv_show[\"minutes\"].max()"
   ]
  },
  {
   "cell_type": "markdown",
   "id": "4a4b2ec6-e33f-4085-8d31-99f049003020",
   "metadata": {},
   "source": [
    "Note that some have their units as seasons and some has as minutes. Among Movies, the maximum duration is 312 minutes. Among TV Shows, maximum duration is 16 seasons"
   ]
  },
  {
   "cell_type": "markdown",
   "id": "15e3c229-cf80-4bff-9b52-964c6e835e58",
   "metadata": {},
   "source": [
    "#### Task 4.11\n",
    "Which individual country has the Highest No. of TV Shows ?"
   ]
  },
  {
   "cell_type": "code",
   "execution_count": 38,
   "id": "2902e9e4-7aaf-40ef-82ec-6513f4469669",
   "metadata": {
    "tags": []
   },
   "outputs": [
    {
     "data": {
      "text/plain": [
       "Country\n",
       "United States    705\n",
       "Name: count, dtype: int64"
      ]
     },
     "execution_count": 38,
     "metadata": {},
     "output_type": "execute_result"
    }
   ],
   "source": [
    "tv_show = netflix.query(\"Category == 'TV Show' \")\n",
    "tv_show[\"Country\"].value_counts().head(1)"
   ]
  },
  {
   "cell_type": "markdown",
   "id": "a883b9f9-b813-4e61-9af2-6ee4df62db5f",
   "metadata": {},
   "source": [
    "#### Task 4.12\n",
    "How can we sort the dataset by Year ?"
   ]
  },
  {
   "cell_type": "code",
   "execution_count": 39,
   "id": "3d7d8ab5-da29-407f-8f1e-85dde5ad7dd1",
   "metadata": {
    "tags": []
   },
   "outputs": [
    {
     "data": {
      "text/html": [
       "<div>\n",
       "<style scoped>\n",
       "    .dataframe tbody tr th:only-of-type {\n",
       "        vertical-align: middle;\n",
       "    }\n",
       "\n",
       "    .dataframe tbody tr th {\n",
       "        vertical-align: top;\n",
       "    }\n",
       "\n",
       "    .dataframe thead th {\n",
       "        text-align: right;\n",
       "    }\n",
       "</style>\n",
       "<table border=\"1\" class=\"dataframe\">\n",
       "  <thead>\n",
       "    <tr style=\"text-align: right;\">\n",
       "      <th></th>\n",
       "      <th>Show_Id</th>\n",
       "      <th>Category</th>\n",
       "      <th>Title</th>\n",
       "      <th>Director</th>\n",
       "      <th>Cast</th>\n",
       "      <th>Country</th>\n",
       "      <th>Release_Date</th>\n",
       "      <th>Rating</th>\n",
       "      <th>Duration</th>\n",
       "      <th>Type</th>\n",
       "      <th>Description</th>\n",
       "      <th>Date</th>\n",
       "      <th>month</th>\n",
       "      <th>year</th>\n",
       "      <th>minutes</th>\n",
       "      <th>unit</th>\n",
       "    </tr>\n",
       "  </thead>\n",
       "  <tbody>\n",
       "    <tr>\n",
       "      <th>7115</th>\n",
       "      <td>s7114</td>\n",
       "      <td>Movie</td>\n",
       "      <td>To and From New York</td>\n",
       "      <td>Sorin Dan Mihalcescu</td>\n",
       "      <td>Barbara King, Shaana Diya, John Krisiukenas, Y...</td>\n",
       "      <td>United States</td>\n",
       "      <td>January 1, 2008</td>\n",
       "      <td>TV-MA</td>\n",
       "      <td>81 min</td>\n",
       "      <td>Dramas, Independent Movies, Thrillers</td>\n",
       "      <td>While covering a story in New York City, a Sea...</td>\n",
       "      <td>2008-01-01</td>\n",
       "      <td>1</td>\n",
       "      <td>2008</td>\n",
       "      <td>81</td>\n",
       "      <td>min</td>\n",
       "    </tr>\n",
       "    <tr>\n",
       "      <th>1765</th>\n",
       "      <td>s1766</td>\n",
       "      <td>TV Show</td>\n",
       "      <td>Dinner for Five</td>\n",
       "      <td>NaN</td>\n",
       "      <td>unknown</td>\n",
       "      <td>United States</td>\n",
       "      <td>February 4, 2008</td>\n",
       "      <td>TV-MA</td>\n",
       "      <td>1 Season</td>\n",
       "      <td>Stand-Up Comedy &amp; Talk Shows</td>\n",
       "      <td>In each episode, four celebrities join host Jo...</td>\n",
       "      <td>2008-02-04</td>\n",
       "      <td>2</td>\n",
       "      <td>2008</td>\n",
       "      <td>1</td>\n",
       "      <td>Season</td>\n",
       "    </tr>\n",
       "    <tr>\n",
       "      <th>5766</th>\n",
       "      <td>s5766</td>\n",
       "      <td>Movie</td>\n",
       "      <td>Splatter</td>\n",
       "      <td>Joe Dante</td>\n",
       "      <td>Corey Feldman, Tony Todd, Tara Leigh, Erin Way...</td>\n",
       "      <td>United States</td>\n",
       "      <td>November 18, 2009</td>\n",
       "      <td>TV-MA</td>\n",
       "      <td>29 min</td>\n",
       "      <td>Horror Movies</td>\n",
       "      <td>After committing suicide, a washed-up rocker r...</td>\n",
       "      <td>2009-11-18</td>\n",
       "      <td>11</td>\n",
       "      <td>2009</td>\n",
       "      <td>29</td>\n",
       "      <td>min</td>\n",
       "    </tr>\n",
       "    <tr>\n",
       "      <th>3248</th>\n",
       "      <td>s3249</td>\n",
       "      <td>Movie</td>\n",
       "      <td>Just Another Love Story</td>\n",
       "      <td>Ole Bornedal</td>\n",
       "      <td>Anders W. Berthelsen, Rebecka Hemse, Nikolaj L...</td>\n",
       "      <td>Denmark</td>\n",
       "      <td>May 5, 2009</td>\n",
       "      <td>TV-MA</td>\n",
       "      <td>104 min</td>\n",
       "      <td>Dramas, International Movies</td>\n",
       "      <td>When he causes a car accident that leaves a yo...</td>\n",
       "      <td>2009-05-05</td>\n",
       "      <td>5</td>\n",
       "      <td>2009</td>\n",
       "      <td>104</td>\n",
       "      <td>min</td>\n",
       "    </tr>\n",
       "    <tr>\n",
       "      <th>3840</th>\n",
       "      <td>s3841</td>\n",
       "      <td>Movie</td>\n",
       "      <td>Mad Ron's Prevues from Hell</td>\n",
       "      <td>Jim Monaco</td>\n",
       "      <td>Nick Pawlow, Jordu Schell, Jay Kushwara, Micha...</td>\n",
       "      <td>United States</td>\n",
       "      <td>November 1, 2010</td>\n",
       "      <td>NR</td>\n",
       "      <td>84 min</td>\n",
       "      <td>Cult Movies, Horror Movies</td>\n",
       "      <td>This collection cherry-picks trailers, forgott...</td>\n",
       "      <td>2010-11-01</td>\n",
       "      <td>11</td>\n",
       "      <td>2010</td>\n",
       "      <td>84</td>\n",
       "      <td>min</td>\n",
       "    </tr>\n",
       "    <tr>\n",
       "      <th>...</th>\n",
       "      <td>...</td>\n",
       "      <td>...</td>\n",
       "      <td>...</td>\n",
       "      <td>...</td>\n",
       "      <td>...</td>\n",
       "      <td>...</td>\n",
       "      <td>...</td>\n",
       "      <td>...</td>\n",
       "      <td>...</td>\n",
       "      <td>...</td>\n",
       "      <td>...</td>\n",
       "      <td>...</td>\n",
       "      <td>...</td>\n",
       "      <td>...</td>\n",
       "      <td>...</td>\n",
       "      <td>...</td>\n",
       "    </tr>\n",
       "    <tr>\n",
       "      <th>6636</th>\n",
       "      <td>s6635</td>\n",
       "      <td>TV Show</td>\n",
       "      <td>The Magicians</td>\n",
       "      <td>NaN</td>\n",
       "      <td>Jason Ralph, Arjun Gupta, Hale Appleman, Stell...</td>\n",
       "      <td>United States, Canada</td>\n",
       "      <td>January 15, 2021</td>\n",
       "      <td>TV-MA</td>\n",
       "      <td>5 Seasons</td>\n",
       "      <td>TV Dramas, TV Sci-Fi &amp; Fantasy</td>\n",
       "      <td>When grad student Quentin Coldwater enters a c...</td>\n",
       "      <td>2021-01-15</td>\n",
       "      <td>1</td>\n",
       "      <td>2021</td>\n",
       "      <td>5</td>\n",
       "      <td>Seasons</td>\n",
       "    </tr>\n",
       "    <tr>\n",
       "      <th>6248</th>\n",
       "      <td>s6248</td>\n",
       "      <td>Movie</td>\n",
       "      <td>The Creative Brain</td>\n",
       "      <td>Jennifer Beamish, Toby Trackman</td>\n",
       "      <td>David Eagleman</td>\n",
       "      <td>United States</td>\n",
       "      <td>January 1, 2021</td>\n",
       "      <td>TV-14</td>\n",
       "      <td>53 min</td>\n",
       "      <td>Documentaries</td>\n",
       "      <td>Neuroscientist David Eagleman taps into the cr...</td>\n",
       "      <td>2021-01-01</td>\n",
       "      <td>1</td>\n",
       "      <td>2021</td>\n",
       "      <td>53</td>\n",
       "      <td>min</td>\n",
       "    </tr>\n",
       "    <tr>\n",
       "      <th>1919</th>\n",
       "      <td>s1920</td>\n",
       "      <td>Movie</td>\n",
       "      <td>Eddie Murphy: Raw</td>\n",
       "      <td>Robert Townsend</td>\n",
       "      <td>Eddie Murphy</td>\n",
       "      <td>United States</td>\n",
       "      <td>January 1, 2021</td>\n",
       "      <td>R</td>\n",
       "      <td>90 min</td>\n",
       "      <td>Stand-Up Comedy</td>\n",
       "      <td>This stand-up comedy classic features Eddie Mu...</td>\n",
       "      <td>2021-01-01</td>\n",
       "      <td>1</td>\n",
       "      <td>2021</td>\n",
       "      <td>90</td>\n",
       "      <td>min</td>\n",
       "    </tr>\n",
       "    <tr>\n",
       "      <th>3483</th>\n",
       "      <td>s3484</td>\n",
       "      <td>TV Show</td>\n",
       "      <td>L.A.’s Finest</td>\n",
       "      <td>NaN</td>\n",
       "      <td>Jessica Alba, Gabrielle Union</td>\n",
       "      <td>United States</td>\n",
       "      <td>January 5, 2021</td>\n",
       "      <td>TV-14</td>\n",
       "      <td>1 Season</td>\n",
       "      <td>Crime TV Shows, TV Action &amp; Adventure, TV Come...</td>\n",
       "      <td>In this spinoff of the \"Bad Boys\" franchise, t...</td>\n",
       "      <td>2021-01-05</td>\n",
       "      <td>1</td>\n",
       "      <td>2021</td>\n",
       "      <td>1</td>\n",
       "      <td>Season</td>\n",
       "    </tr>\n",
       "    <tr>\n",
       "      <th>1690</th>\n",
       "      <td>s1691</td>\n",
       "      <td>Movie</td>\n",
       "      <td>Delhi Belly</td>\n",
       "      <td>Abhinay Deo</td>\n",
       "      <td>Imran Khan, Vir Das, Kunaal Roy Kapur, Poorna ...</td>\n",
       "      <td>India</td>\n",
       "      <td>January 10, 2021</td>\n",
       "      <td>TV-MA</td>\n",
       "      <td>101 min</td>\n",
       "      <td>Action &amp; Adventure, Comedies, International Mo...</td>\n",
       "      <td>Three flatmates get involved in the shady busi...</td>\n",
       "      <td>2021-01-10</td>\n",
       "      <td>1</td>\n",
       "      <td>2021</td>\n",
       "      <td>101</td>\n",
       "      <td>min</td>\n",
       "    </tr>\n",
       "  </tbody>\n",
       "</table>\n",
       "<p>7787 rows × 16 columns</p>\n",
       "</div>"
      ],
      "text/plain": [
       "     Show_Id Category                        Title  \\\n",
       "7115   s7114    Movie         To and From New York   \n",
       "1765   s1766  TV Show              Dinner for Five   \n",
       "5766   s5766    Movie                     Splatter   \n",
       "3248   s3249    Movie      Just Another Love Story   \n",
       "3840   s3841    Movie  Mad Ron's Prevues from Hell   \n",
       "...      ...      ...                          ...   \n",
       "6636   s6635  TV Show                The Magicians   \n",
       "6248   s6248    Movie           The Creative Brain   \n",
       "1919   s1920    Movie            Eddie Murphy: Raw   \n",
       "3483   s3484  TV Show                L.A.’s Finest   \n",
       "1690   s1691    Movie                  Delhi Belly   \n",
       "\n",
       "                             Director  \\\n",
       "7115             Sorin Dan Mihalcescu   \n",
       "1765                              NaN   \n",
       "5766                        Joe Dante   \n",
       "3248                     Ole Bornedal   \n",
       "3840                       Jim Monaco   \n",
       "...                               ...   \n",
       "6636                              NaN   \n",
       "6248  Jennifer Beamish, Toby Trackman   \n",
       "1919                  Robert Townsend   \n",
       "3483                              NaN   \n",
       "1690                      Abhinay Deo   \n",
       "\n",
       "                                                   Cast  \\\n",
       "7115  Barbara King, Shaana Diya, John Krisiukenas, Y...   \n",
       "1765                                            unknown   \n",
       "5766  Corey Feldman, Tony Todd, Tara Leigh, Erin Way...   \n",
       "3248  Anders W. Berthelsen, Rebecka Hemse, Nikolaj L...   \n",
       "3840  Nick Pawlow, Jordu Schell, Jay Kushwara, Micha...   \n",
       "...                                                 ...   \n",
       "6636  Jason Ralph, Arjun Gupta, Hale Appleman, Stell...   \n",
       "6248                                     David Eagleman   \n",
       "1919                                       Eddie Murphy   \n",
       "3483                      Jessica Alba, Gabrielle Union   \n",
       "1690  Imran Khan, Vir Das, Kunaal Roy Kapur, Poorna ...   \n",
       "\n",
       "                    Country       Release_Date Rating   Duration  \\\n",
       "7115          United States    January 1, 2008  TV-MA     81 min   \n",
       "1765          United States   February 4, 2008  TV-MA   1 Season   \n",
       "5766          United States  November 18, 2009  TV-MA     29 min   \n",
       "3248                Denmark        May 5, 2009  TV-MA    104 min   \n",
       "3840          United States   November 1, 2010     NR     84 min   \n",
       "...                     ...                ...    ...        ...   \n",
       "6636  United States, Canada   January 15, 2021  TV-MA  5 Seasons   \n",
       "6248          United States    January 1, 2021  TV-14     53 min   \n",
       "1919          United States    January 1, 2021      R     90 min   \n",
       "3483          United States    January 5, 2021  TV-14   1 Season   \n",
       "1690                  India   January 10, 2021  TV-MA    101 min   \n",
       "\n",
       "                                                   Type  \\\n",
       "7115              Dramas, Independent Movies, Thrillers   \n",
       "1765                       Stand-Up Comedy & Talk Shows   \n",
       "5766                                      Horror Movies   \n",
       "3248                       Dramas, International Movies   \n",
       "3840                         Cult Movies, Horror Movies   \n",
       "...                                                 ...   \n",
       "6636                     TV Dramas, TV Sci-Fi & Fantasy   \n",
       "6248                                      Documentaries   \n",
       "1919                                    Stand-Up Comedy   \n",
       "3483  Crime TV Shows, TV Action & Adventure, TV Come...   \n",
       "1690  Action & Adventure, Comedies, International Mo...   \n",
       "\n",
       "                                            Description       Date  month  \\\n",
       "7115  While covering a story in New York City, a Sea... 2008-01-01      1   \n",
       "1765  In each episode, four celebrities join host Jo... 2008-02-04      2   \n",
       "5766  After committing suicide, a washed-up rocker r... 2009-11-18     11   \n",
       "3248  When he causes a car accident that leaves a yo... 2009-05-05      5   \n",
       "3840  This collection cherry-picks trailers, forgott... 2010-11-01     11   \n",
       "...                                                 ...        ...    ...   \n",
       "6636  When grad student Quentin Coldwater enters a c... 2021-01-15      1   \n",
       "6248  Neuroscientist David Eagleman taps into the cr... 2021-01-01      1   \n",
       "1919  This stand-up comedy classic features Eddie Mu... 2021-01-01      1   \n",
       "3483  In this spinoff of the \"Bad Boys\" franchise, t... 2021-01-05      1   \n",
       "1690  Three flatmates get involved in the shady busi... 2021-01-10      1   \n",
       "\n",
       "      year  minutes     unit  \n",
       "7115  2008       81      min  \n",
       "1765  2008        1   Season  \n",
       "5766  2009       29      min  \n",
       "3248  2009      104      min  \n",
       "3840  2010       84      min  \n",
       "...    ...      ...      ...  \n",
       "6636  2021        5  Seasons  \n",
       "6248  2021       53      min  \n",
       "1919  2021       90      min  \n",
       "3483  2021        1   Season  \n",
       "1690  2021      101      min  \n",
       "\n",
       "[7787 rows x 16 columns]"
      ]
     },
     "execution_count": 39,
     "metadata": {},
     "output_type": "execute_result"
    }
   ],
   "source": [
    "netflix.sort_values(by= \"year\", ascending = True)"
   ]
  },
  {
   "cell_type": "markdown",
   "id": "d4fb0f1c-300c-478c-a56a-ac73b11817dd",
   "metadata": {},
   "source": [
    "#### Task 4.13\n",
    "Find all the instances where: Category is 'Movie' and Type is 'Dramas' or Category is 'TV Show' & Type is 'Kids' TV'."
   ]
  },
  {
   "cell_type": "code",
   "execution_count": 40,
   "id": "7be3cad0-5458-4df1-a8d4-717e2d88c4fc",
   "metadata": {
    "tags": []
   },
   "outputs": [
    {
     "data": {
      "text/html": [
       "<div>\n",
       "<style scoped>\n",
       "    .dataframe tbody tr th:only-of-type {\n",
       "        vertical-align: middle;\n",
       "    }\n",
       "\n",
       "    .dataframe tbody tr th {\n",
       "        vertical-align: top;\n",
       "    }\n",
       "\n",
       "    .dataframe thead th {\n",
       "        text-align: right;\n",
       "    }\n",
       "</style>\n",
       "<table border=\"1\" class=\"dataframe\">\n",
       "  <thead>\n",
       "    <tr style=\"text-align: right;\">\n",
       "      <th></th>\n",
       "      <th>Show_Id</th>\n",
       "      <th>Category</th>\n",
       "      <th>Title</th>\n",
       "      <th>Director</th>\n",
       "      <th>Cast</th>\n",
       "      <th>Country</th>\n",
       "      <th>Release_Date</th>\n",
       "      <th>Rating</th>\n",
       "      <th>Duration</th>\n",
       "      <th>Type</th>\n",
       "      <th>Description</th>\n",
       "      <th>Date</th>\n",
       "      <th>month</th>\n",
       "      <th>year</th>\n",
       "      <th>minutes</th>\n",
       "      <th>unit</th>\n",
       "    </tr>\n",
       "  </thead>\n",
       "  <tbody>\n",
       "    <tr>\n",
       "      <th>4</th>\n",
       "      <td>s5</td>\n",
       "      <td>Movie</td>\n",
       "      <td>21</td>\n",
       "      <td>Robert Luketic</td>\n",
       "      <td>Jim Sturgess, Kevin Spacey, Kate Bosworth, Aar...</td>\n",
       "      <td>United States</td>\n",
       "      <td>January 1, 2020</td>\n",
       "      <td>PG-13</td>\n",
       "      <td>123 min</td>\n",
       "      <td>Dramas</td>\n",
       "      <td>A brilliant group of students become card-coun...</td>\n",
       "      <td>2020-01-01</td>\n",
       "      <td>1</td>\n",
       "      <td>2020</td>\n",
       "      <td>123</td>\n",
       "      <td>min</td>\n",
       "    </tr>\n",
       "    <tr>\n",
       "      <th>7</th>\n",
       "      <td>s8</td>\n",
       "      <td>Movie</td>\n",
       "      <td>187</td>\n",
       "      <td>Kevin Reynolds</td>\n",
       "      <td>Samuel L. Jackson, John Heard, Kelly Rowan, Cl...</td>\n",
       "      <td>United States</td>\n",
       "      <td>November 1, 2019</td>\n",
       "      <td>R</td>\n",
       "      <td>119 min</td>\n",
       "      <td>Dramas</td>\n",
       "      <td>After one of his high school students attacks ...</td>\n",
       "      <td>2019-11-01</td>\n",
       "      <td>11</td>\n",
       "      <td>2019</td>\n",
       "      <td>119</td>\n",
       "      <td>min</td>\n",
       "    </tr>\n",
       "    <tr>\n",
       "      <th>111</th>\n",
       "      <td>s112</td>\n",
       "      <td>TV Show</td>\n",
       "      <td>44 Cats</td>\n",
       "      <td>NaN</td>\n",
       "      <td>Sarah Natochenny, Suzy Myers, Simona Berman, E...</td>\n",
       "      <td>Italy</td>\n",
       "      <td>October 1, 2020</td>\n",
       "      <td>TV-Y7</td>\n",
       "      <td>2 Seasons</td>\n",
       "      <td>Kids' TV</td>\n",
       "      <td>Paw-esome tales abound when singing furry frie...</td>\n",
       "      <td>2020-10-01</td>\n",
       "      <td>10</td>\n",
       "      <td>2020</td>\n",
       "      <td>2</td>\n",
       "      <td>Seasons</td>\n",
       "    </tr>\n",
       "    <tr>\n",
       "      <th>170</th>\n",
       "      <td>s171</td>\n",
       "      <td>Movie</td>\n",
       "      <td>A Family Man</td>\n",
       "      <td>Mark Williams</td>\n",
       "      <td>Gerard Butler, Gretchen Mol, Alison Brie, Will...</td>\n",
       "      <td>Canada, United States</td>\n",
       "      <td>December 15, 2019</td>\n",
       "      <td>R</td>\n",
       "      <td>110 min</td>\n",
       "      <td>Dramas</td>\n",
       "      <td>A ruthless corporate headhunter battles his ri...</td>\n",
       "      <td>2019-12-15</td>\n",
       "      <td>12</td>\n",
       "      <td>2019</td>\n",
       "      <td>110</td>\n",
       "      <td>min</td>\n",
       "    </tr>\n",
       "    <tr>\n",
       "      <th>232</th>\n",
       "      <td>s233</td>\n",
       "      <td>Movie</td>\n",
       "      <td>A Stoning in Fulham County</td>\n",
       "      <td>Larry Elikann</td>\n",
       "      <td>Ken Olin, Jill Eikenberry, Maureen Mueller, Gr...</td>\n",
       "      <td>United States</td>\n",
       "      <td>October 1, 2011</td>\n",
       "      <td>TV-14</td>\n",
       "      <td>95 min</td>\n",
       "      <td>Dramas</td>\n",
       "      <td>After reckless teens kill an Amish child, a pr...</td>\n",
       "      <td>2011-10-01</td>\n",
       "      <td>10</td>\n",
       "      <td>2011</td>\n",
       "      <td>95</td>\n",
       "      <td>min</td>\n",
       "    </tr>\n",
       "    <tr>\n",
       "      <th>...</th>\n",
       "      <td>...</td>\n",
       "      <td>...</td>\n",
       "      <td>...</td>\n",
       "      <td>...</td>\n",
       "      <td>...</td>\n",
       "      <td>...</td>\n",
       "      <td>...</td>\n",
       "      <td>...</td>\n",
       "      <td>...</td>\n",
       "      <td>...</td>\n",
       "      <td>...</td>\n",
       "      <td>...</td>\n",
       "      <td>...</td>\n",
       "      <td>...</td>\n",
       "      <td>...</td>\n",
       "      <td>...</td>\n",
       "    </tr>\n",
       "    <tr>\n",
       "      <th>7668</th>\n",
       "      <td>s7667</td>\n",
       "      <td>TV Show</td>\n",
       "      <td>World of Winx</td>\n",
       "      <td>Iginio Straffi</td>\n",
       "      <td>Haven Paschall, Alysha Deslorieux, Jessica Paq...</td>\n",
       "      <td>Italy, United States</td>\n",
       "      <td>June 16, 2017</td>\n",
       "      <td>TV-Y7</td>\n",
       "      <td>2 Seasons</td>\n",
       "      <td>Kids' TV</td>\n",
       "      <td>The reality show \"WOW!\" engages the Winx in th...</td>\n",
       "      <td>2017-06-16</td>\n",
       "      <td>6</td>\n",
       "      <td>2017</td>\n",
       "      <td>2</td>\n",
       "      <td>Seasons</td>\n",
       "    </tr>\n",
       "    <tr>\n",
       "      <th>7717</th>\n",
       "      <td>s7716</td>\n",
       "      <td>TV Show</td>\n",
       "      <td>Yoko</td>\n",
       "      <td>NaN</td>\n",
       "      <td>Eileen Stevens, Alyson Leigh Rosenfeld, Sarah ...</td>\n",
       "      <td>NaN</td>\n",
       "      <td>June 23, 2018</td>\n",
       "      <td>TV-Y</td>\n",
       "      <td>1 Season</td>\n",
       "      <td>Kids' TV</td>\n",
       "      <td>Friends Mai, Oto and Vik's games at the park b...</td>\n",
       "      <td>2018-06-23</td>\n",
       "      <td>6</td>\n",
       "      <td>2018</td>\n",
       "      <td>1</td>\n",
       "      <td>Season</td>\n",
       "    </tr>\n",
       "    <tr>\n",
       "      <th>7719</th>\n",
       "      <td>s7718</td>\n",
       "      <td>TV Show</td>\n",
       "      <td>YOM</td>\n",
       "      <td>NaN</td>\n",
       "      <td>Sairaj, Devyani Dagaonkar, Ketan Singh, Mayur ...</td>\n",
       "      <td>NaN</td>\n",
       "      <td>June 7, 2018</td>\n",
       "      <td>TV-Y7</td>\n",
       "      <td>1 Season</td>\n",
       "      <td>Kids' TV</td>\n",
       "      <td>With the mind of a human being, and the body o...</td>\n",
       "      <td>2018-06-07</td>\n",
       "      <td>6</td>\n",
       "      <td>2018</td>\n",
       "      <td>1</td>\n",
       "      <td>Season</td>\n",
       "    </tr>\n",
       "    <tr>\n",
       "      <th>7758</th>\n",
       "      <td>s7757</td>\n",
       "      <td>TV Show</td>\n",
       "      <td>Z4</td>\n",
       "      <td>NaN</td>\n",
       "      <td>Apollo Costa, Gabriel Santana, Matheus Lustosa...</td>\n",
       "      <td>Brazil</td>\n",
       "      <td>February 22, 2019</td>\n",
       "      <td>TV-PG</td>\n",
       "      <td>2 Seasons</td>\n",
       "      <td>Kids' TV</td>\n",
       "      <td>Fading music biz veteran Zé realizes he has ju...</td>\n",
       "      <td>2019-02-22</td>\n",
       "      <td>2</td>\n",
       "      <td>2019</td>\n",
       "      <td>2</td>\n",
       "      <td>Seasons</td>\n",
       "    </tr>\n",
       "    <tr>\n",
       "      <th>7761</th>\n",
       "      <td>s7760</td>\n",
       "      <td>TV Show</td>\n",
       "      <td>Zak Storm</td>\n",
       "      <td>NaN</td>\n",
       "      <td>Michael Johnston, Jessica Gee-George, Christin...</td>\n",
       "      <td>United States, France, South Korea, Indonesia</td>\n",
       "      <td>September 13, 2018</td>\n",
       "      <td>TV-Y7</td>\n",
       "      <td>3 Seasons</td>\n",
       "      <td>Kids' TV</td>\n",
       "      <td>Teen surfer Zak Storm is mysteriously transpor...</td>\n",
       "      <td>2018-09-13</td>\n",
       "      <td>9</td>\n",
       "      <td>2018</td>\n",
       "      <td>3</td>\n",
       "      <td>Seasons</td>\n",
       "    </tr>\n",
       "  </tbody>\n",
       "</table>\n",
       "<p>322 rows × 16 columns</p>\n",
       "</div>"
      ],
      "text/plain": [
       "     Show_Id Category                       Title        Director  \\\n",
       "4         s5    Movie                          21  Robert Luketic   \n",
       "7         s8    Movie                         187  Kevin Reynolds   \n",
       "111     s112  TV Show                     44 Cats             NaN   \n",
       "170     s171    Movie                A Family Man   Mark Williams   \n",
       "232     s233    Movie  A Stoning in Fulham County   Larry Elikann   \n",
       "...      ...      ...                         ...             ...   \n",
       "7668   s7667  TV Show               World of Winx  Iginio Straffi   \n",
       "7717   s7716  TV Show                        Yoko             NaN   \n",
       "7719   s7718  TV Show                         YOM             NaN   \n",
       "7758   s7757  TV Show                          Z4             NaN   \n",
       "7761   s7760  TV Show                   Zak Storm             NaN   \n",
       "\n",
       "                                                   Cast  \\\n",
       "4     Jim Sturgess, Kevin Spacey, Kate Bosworth, Aar...   \n",
       "7     Samuel L. Jackson, John Heard, Kelly Rowan, Cl...   \n",
       "111   Sarah Natochenny, Suzy Myers, Simona Berman, E...   \n",
       "170   Gerard Butler, Gretchen Mol, Alison Brie, Will...   \n",
       "232   Ken Olin, Jill Eikenberry, Maureen Mueller, Gr...   \n",
       "...                                                 ...   \n",
       "7668  Haven Paschall, Alysha Deslorieux, Jessica Paq...   \n",
       "7717  Eileen Stevens, Alyson Leigh Rosenfeld, Sarah ...   \n",
       "7719  Sairaj, Devyani Dagaonkar, Ketan Singh, Mayur ...   \n",
       "7758  Apollo Costa, Gabriel Santana, Matheus Lustosa...   \n",
       "7761  Michael Johnston, Jessica Gee-George, Christin...   \n",
       "\n",
       "                                            Country        Release_Date  \\\n",
       "4                                     United States     January 1, 2020   \n",
       "7                                     United States    November 1, 2019   \n",
       "111                                           Italy     October 1, 2020   \n",
       "170                           Canada, United States   December 15, 2019   \n",
       "232                                   United States     October 1, 2011   \n",
       "...                                             ...                 ...   \n",
       "7668                           Italy, United States       June 16, 2017   \n",
       "7717                                            NaN       June 23, 2018   \n",
       "7719                                            NaN        June 7, 2018   \n",
       "7758                                         Brazil   February 22, 2019   \n",
       "7761  United States, France, South Korea, Indonesia  September 13, 2018   \n",
       "\n",
       "     Rating   Duration      Type  \\\n",
       "4     PG-13    123 min    Dramas   \n",
       "7         R    119 min    Dramas   \n",
       "111   TV-Y7  2 Seasons  Kids' TV   \n",
       "170       R    110 min    Dramas   \n",
       "232   TV-14     95 min    Dramas   \n",
       "...     ...        ...       ...   \n",
       "7668  TV-Y7  2 Seasons  Kids' TV   \n",
       "7717   TV-Y   1 Season  Kids' TV   \n",
       "7719  TV-Y7   1 Season  Kids' TV   \n",
       "7758  TV-PG  2 Seasons  Kids' TV   \n",
       "7761  TV-Y7  3 Seasons  Kids' TV   \n",
       "\n",
       "                                            Description       Date  month  \\\n",
       "4     A brilliant group of students become card-coun... 2020-01-01      1   \n",
       "7     After one of his high school students attacks ... 2019-11-01     11   \n",
       "111   Paw-esome tales abound when singing furry frie... 2020-10-01     10   \n",
       "170   A ruthless corporate headhunter battles his ri... 2019-12-15     12   \n",
       "232   After reckless teens kill an Amish child, a pr... 2011-10-01     10   \n",
       "...                                                 ...        ...    ...   \n",
       "7668  The reality show \"WOW!\" engages the Winx in th... 2017-06-16      6   \n",
       "7717  Friends Mai, Oto and Vik's games at the park b... 2018-06-23      6   \n",
       "7719  With the mind of a human being, and the body o... 2018-06-07      6   \n",
       "7758  Fading music biz veteran Zé realizes he has ju... 2019-02-22      2   \n",
       "7761  Teen surfer Zak Storm is mysteriously transpor... 2018-09-13      9   \n",
       "\n",
       "      year  minutes     unit  \n",
       "4     2020      123      min  \n",
       "7     2019      119      min  \n",
       "111   2020        2  Seasons  \n",
       "170   2019      110      min  \n",
       "232   2011       95      min  \n",
       "...    ...      ...      ...  \n",
       "7668  2017        2  Seasons  \n",
       "7717  2018        1   Season  \n",
       "7719  2018        1   Season  \n",
       "7758  2019        2  Seasons  \n",
       "7761  2018        3  Seasons  \n",
       "\n",
       "[322 rows x 16 columns]"
      ]
     },
     "execution_count": 40,
     "metadata": {},
     "output_type": "execute_result"
    }
   ],
   "source": [
    "netflix.loc[\n",
    "    (netflix[\"Category\"] == \"Movie\") & (netflix[\"Type\"] == \"Dramas\")|\n",
    "    (netflix[\"Category\"] == \"TV Show\") & (netflix[\"Type\"] == \"Kids' TV\") ]"
   ]
  },
  {
   "cell_type": "markdown",
   "id": "96079f2e-4fc2-4ae7-ba6d-ae17c9046965",
   "metadata": {},
   "source": [
    "#### Task 4.14\n",
    "which month had the highest number of movies/tv shows released"
   ]
  },
  {
   "cell_type": "code",
   "execution_count": 41,
   "id": "f9691954-adac-4fc6-b71e-b28603ae2224",
   "metadata": {
    "tags": []
   },
   "outputs": [
    {
     "data": {
      "text/plain": [
       "Text(0.5, 1.0, 'Number of TV Shows or Movies released in different months')"
      ]
     },
     "execution_count": 41,
     "metadata": {},
     "output_type": "execute_result"
    },
    {
     "data": {
      "image/png": "[encoded data removed]",
      "text/plain": [
       "<Figure size 1000x600 with 1 Axes>"
      ]
     },
     "metadata": {},
     "output_type": "display_data"
    }
   ],
   "source": [
    "import calendar\n",
    "netflix[\"month\"] = netflix[\"month\"].apply(lambda x: calendar.month_abbr[x])\n",
    "sns.countplot(data = netflix, x = \"month\", order= netflix[\"month\"].value_counts().index, palette = \"viridis\")\n",
    "plt.title(\"Number of TV Shows or Movies released in different months\", fontsize = 15)"
   ]
  },
  {
   "cell_type": "markdown",
   "id": "24e462ad-0150-4aea-86fc-44725a29462a",
   "metadata": {},
   "source": [
    "December had the highest streaming."
   ]
  },
  {
   "cell_type": "markdown",
   "id": "bd1f7725-8110-450d-b917-b6c4405a2150",
   "metadata": {
    "tags": []
   },
   "source": [
    "#### Task 4.15\n",
    "Is there difference between the number of movies and tv shows released in each month?"
   ]
  },
  {
   "cell_type": "code",
   "execution_count": 42,
   "id": "499b2b48-df66-4c7e-8d45-7fe66b9ff015",
   "metadata": {
    "tags": []
   },
   "outputs": [
    {
     "data": {
      "text/plain": [
       "Text(0.5, 1.0, 'Number of TV Shows & Movies released in different months')"
      ]
     },
     "execution_count": 42,
     "metadata": {},
     "output_type": "execute_result"
    },
    {
     "data": {
      "image/png": "[encoded data removed]",
      "text/plain": [
       "<Figure size 606.375x500 with 1 Axes>"
      ]
     },
     "metadata": {},
     "output_type": "display_data"
    }
   ],
   "source": [
    "sns.catplot(data = netflix, x = \"month\", hue = \"Category\", kind = \"count\", palette = \"viridis\")\n",
    "plt.title(\"Number of TV Shows & Movies released in different months\", fontsize = 15)"
   ]
  },
  {
   "cell_type": "markdown",
   "id": "7fd251f0-322c-4cff-a01c-3438a8d22196",
   "metadata": {},
   "source": [
    "December marked the peak of streaming activity for TV shows, whereas January claimed the highest viewership for movies. Additionally, across all months, movies consistently garnered notably higher streaming numbers compared to TV shows."
   ]
  }
 ],
 "metadata": {
  "kernelspec": {
   "display_name": "Python 3 (ipykernel)",
   "language": "python",
   "name": "python3"
  },
  "language_info": {
   "codemirror_mode": {
    "name": "ipython",
    "version": 3
   },
   "file_extension": ".py",
   "mimetype": "text/x-python",
   "name": "python",
   "nbconvert_exporter": "python",
   "pygments_lexer": "ipython3",
   "version": "3.11.5"
  }
 },
 "nbformat": 4,
 "nbformat_minor": 5
}
